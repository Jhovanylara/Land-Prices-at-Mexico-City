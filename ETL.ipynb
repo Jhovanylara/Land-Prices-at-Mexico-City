{
 "cells": [
  {
   "cell_type": "code",
   "execution_count": 145,
   "metadata": {},
   "outputs": [],
   "source": [
    "import warnings\n",
    "warnings.filterwarnings('ignore')"
   ]
  },
  {
   "cell_type": "code",
   "execution_count": 1,
   "metadata": {},
   "outputs": [],
   "source": [
    "import sys\n",
    "sys.path.append('..')\n",
    "import pandas as pd \n",
    "import numpy as np\n",
    "import matplotlib.pyplot as plt\n",
    "import seaborn as sns\n",
    "import geopandas as gpd\n",
    "from geopy import Nominatim\n",
    "from matplotlib import rcParams\n",
    "import scipy.stats as stats\n",
    "import plotly.express as px\n",
    "import urbanpy as up\n",
    "from mpl_toolkits.axes_grid1 import make_axes_locatable\n",
    "from tqdm.notebook import tqdm\n",
    "%matplotlib inline"
   ]
  },
  {
   "cell_type": "code",
   "execution_count": 147,
   "metadata": {},
   "outputs": [],
   "source": [
    "tqdm.pandas()"
   ]
  },
  {
   "attachments": {},
   "cell_type": "markdown",
   "metadata": {},
   "source": [
    "## Análisis preliminar dataset xlsx"
   ]
  },
  {
   "cell_type": "code",
   "execution_count": 148,
   "metadata": {},
   "outputs": [],
   "source": [
    "datos=pd.read_excel('https://github.com/Jhovanylara/Land-Prices-at-Mexico-City/blob/master/Datasets/Challenge_CDMX_Mapa(preciom2).xlsx?raw=true')\n",
    "df=pd.DataFrame(datos)"
   ]
  },
  {
   "attachments": {},
   "cell_type": "markdown",
   "metadata": {},
   "source": [
    "Una vez ingestados los datos en un dataframe, observamos si tenemos instancias duplicadas."
   ]
  },
  {
   "cell_type": "code",
   "execution_count": 43,
   "metadata": {},
   "outputs": [
    {
     "data": {
      "text/html": [
       "<div>\n",
       "<style scoped>\n",
       "    .dataframe tbody tr th:only-of-type {\n",
       "        vertical-align: middle;\n",
       "    }\n",
       "\n",
       "    .dataframe tbody tr th {\n",
       "        vertical-align: top;\n",
       "    }\n",
       "\n",
       "    .dataframe thead th {\n",
       "        text-align: right;\n",
       "    }\n",
       "</style>\n",
       "<table border=\"1\" class=\"dataframe\">\n",
       "  <thead>\n",
       "    <tr style=\"text-align: right;\">\n",
       "      <th></th>\n",
       "      <th>Colonia</th>\n",
       "      <th>Alcaldía</th>\n",
       "      <th>Latitude (generated)</th>\n",
       "      <th>Longitude (generated)</th>\n",
       "      <th>Avg. costo_m2_terreno</th>\n",
       "    </tr>\n",
       "  </thead>\n",
       "  <tbody>\n",
       "  </tbody>\n",
       "</table>\n",
       "</div>"
      ],
      "text/plain": [
       "Empty DataFrame\n",
       "Columns: [Colonia, Alcaldía, Latitude (generated), Longitude (generated), Avg. costo_m2_terreno]\n",
       "Index: []"
      ]
     },
     "execution_count": 43,
     "metadata": {},
     "output_type": "execute_result"
    }
   ],
   "source": [
    "df[df.duplicated()]"
   ]
  },
  {
   "attachments": {},
   "cell_type": "markdown",
   "metadata": {},
   "source": [
    "Vemos la cantidad de registros"
   ]
  },
  {
   "cell_type": "code",
   "execution_count": 44,
   "metadata": {},
   "outputs": [
    {
     "data": {
      "text/plain": [
       "(869, 5)"
      ]
     },
     "execution_count": 44,
     "metadata": {},
     "output_type": "execute_result"
    }
   ],
   "source": [
    "df.shape"
   ]
  },
  {
   "attachments": {},
   "cell_type": "markdown",
   "metadata": {},
   "source": [
    "Reemplazamos los datos con entradas en simbolos por 0"
   ]
  },
  {
   "cell_type": "code",
   "execution_count": 149,
   "metadata": {},
   "outputs": [],
   "source": [
    "df['Alcaldía']=df['Alcaldía'].replace([\"*\"], 0)"
   ]
  },
  {
   "cell_type": "code",
   "execution_count": 46,
   "metadata": {},
   "outputs": [
    {
     "data": {
      "text/plain": [
       "Colonia                    0\n",
       "Alcaldía                   0\n",
       "Latitude (generated)       0\n",
       "Longitude (generated)      0\n",
       "Avg. costo_m2_terreno    179\n",
       "dtype: int64"
      ]
     },
     "execution_count": 46,
     "metadata": {},
     "output_type": "execute_result"
    }
   ],
   "source": [
    "df.isnull().sum()"
   ]
  },
  {
   "attachments": {},
   "cell_type": "markdown",
   "metadata": {},
   "source": [
    "Vemos la cantidad de datos faltantes en columna Alcaldía"
   ]
  },
  {
   "cell_type": "code",
   "execution_count": 150,
   "metadata": {},
   "outputs": [
    {
     "data": {
      "text/plain": [
       "(42, 5)"
      ]
     },
     "execution_count": 150,
     "metadata": {},
     "output_type": "execute_result"
    }
   ],
   "source": [
    "missing_alcaldias=df.loc[df['Alcaldía']==0]\n",
    "missing_alcaldias.shape"
   ]
  },
  {
   "attachments": {},
   "cell_type": "markdown",
   "metadata": {},
   "source": [
    "Obtenemos el indice de las filas con datos faltantes en la columna Alcaldía"
   ]
  },
  {
   "cell_type": "code",
   "execution_count": 151,
   "metadata": {},
   "outputs": [
    {
     "data": {
      "text/html": [
       "<div>\n",
       "<style scoped>\n",
       "    .dataframe tbody tr th:only-of-type {\n",
       "        vertical-align: middle;\n",
       "    }\n",
       "\n",
       "    .dataframe tbody tr th {\n",
       "        vertical-align: top;\n",
       "    }\n",
       "\n",
       "    .dataframe thead th {\n",
       "        text-align: right;\n",
       "    }\n",
       "</style>\n",
       "<table border=\"1\" class=\"dataframe\">\n",
       "  <thead>\n",
       "    <tr style=\"text-align: right;\">\n",
       "      <th></th>\n",
       "      <th>lista</th>\n",
       "      <th>Colonia</th>\n",
       "      <th>Alcaldía</th>\n",
       "      <th>Latitude (generated)</th>\n",
       "      <th>Longitude (generated)</th>\n",
       "      <th>Avg. costo_m2_terreno</th>\n",
       "    </tr>\n",
       "  </thead>\n",
       "  <tbody>\n",
       "    <tr>\n",
       "      <th>0</th>\n",
       "      <td>2</td>\n",
       "      <td>ZACAHUITZCO</td>\n",
       "      <td>0</td>\n",
       "      <td>19.374028</td>\n",
       "      <td>-99.135868</td>\n",
       "      <td>40967.555556</td>\n",
       "    </tr>\n",
       "    <tr>\n",
       "      <th>1</th>\n",
       "      <td>31</td>\n",
       "      <td>VALLE GOMEZ</td>\n",
       "      <td>0</td>\n",
       "      <td>19.457492</td>\n",
       "      <td>-99.120095</td>\n",
       "      <td>19763.700000</td>\n",
       "    </tr>\n",
       "    <tr>\n",
       "      <th>2</th>\n",
       "      <td>37</td>\n",
       "      <td>VALENTIN GOMEZ FARIAS</td>\n",
       "      <td>0</td>\n",
       "      <td>19.387342</td>\n",
       "      <td>-99.164973</td>\n",
       "      <td>22073.000000</td>\n",
       "    </tr>\n",
       "    <tr>\n",
       "      <th>3</th>\n",
       "      <td>67</td>\n",
       "      <td>TIERRA NUEVA</td>\n",
       "      <td>0</td>\n",
       "      <td>19.415400</td>\n",
       "      <td>-99.171456</td>\n",
       "      <td>30329.750000</td>\n",
       "    </tr>\n",
       "    <tr>\n",
       "      <th>4</th>\n",
       "      <td>73</td>\n",
       "      <td>TEPETONGO</td>\n",
       "      <td>0</td>\n",
       "      <td>19.351423</td>\n",
       "      <td>-99.268068</td>\n",
       "      <td>33883.000000</td>\n",
       "    </tr>\n",
       "    <tr>\n",
       "      <th>5</th>\n",
       "      <td>96</td>\n",
       "      <td>SANTO TOMAS</td>\n",
       "      <td>0</td>\n",
       "      <td>19.468871</td>\n",
       "      <td>-99.174043</td>\n",
       "      <td>42969.000000</td>\n",
       "    </tr>\n",
       "    <tr>\n",
       "      <th>6</th>\n",
       "      <td>126</td>\n",
       "      <td>SANTA INES</td>\n",
       "      <td>0</td>\n",
       "      <td>19.361805</td>\n",
       "      <td>-99.151516</td>\n",
       "      <td>26312.000000</td>\n",
       "    </tr>\n",
       "    <tr>\n",
       "      <th>7</th>\n",
       "      <td>136</td>\n",
       "      <td>SANTA CECILIA</td>\n",
       "      <td>0</td>\n",
       "      <td>19.288410</td>\n",
       "      <td>-99.042743</td>\n",
       "      <td>13434.000000</td>\n",
       "    </tr>\n",
       "    <tr>\n",
       "      <th>8</th>\n",
       "      <td>178</td>\n",
       "      <td>SAN MARCOS (BARR)</td>\n",
       "      <td>0</td>\n",
       "      <td>19.400481</td>\n",
       "      <td>-99.155014</td>\n",
       "      <td>27001.090909</td>\n",
       "    </tr>\n",
       "    <tr>\n",
       "      <th>9</th>\n",
       "      <td>182</td>\n",
       "      <td>SAN LUCAS (BARR)</td>\n",
       "      <td>0</td>\n",
       "      <td>19.354063</td>\n",
       "      <td>-99.122298</td>\n",
       "      <td>49651.100000</td>\n",
       "    </tr>\n",
       "    <tr>\n",
       "      <th>10</th>\n",
       "      <td>225</td>\n",
       "      <td>SAN BARTOLO EL CHICO</td>\n",
       "      <td>0</td>\n",
       "      <td>19.284430</td>\n",
       "      <td>-99.130331</td>\n",
       "      <td>24195.333333</td>\n",
       "    </tr>\n",
       "    <tr>\n",
       "      <th>11</th>\n",
       "      <td>270</td>\n",
       "      <td>PROGRESISTA</td>\n",
       "      <td>0</td>\n",
       "      <td>19.395549</td>\n",
       "      <td>-99.088198</td>\n",
       "      <td>18574.000000</td>\n",
       "    </tr>\n",
       "    <tr>\n",
       "      <th>12</th>\n",
       "      <td>357</td>\n",
       "      <td>OCHO DE AGOSTO</td>\n",
       "      <td>0</td>\n",
       "      <td>19.393310</td>\n",
       "      <td>-99.189197</td>\n",
       "      <td>40685.777778</td>\n",
       "    </tr>\n",
       "    <tr>\n",
       "      <th>13</th>\n",
       "      <td>380</td>\n",
       "      <td>NATIVITAS</td>\n",
       "      <td>0</td>\n",
       "      <td>19.305710</td>\n",
       "      <td>-99.065695</td>\n",
       "      <td>NaN</td>\n",
       "    </tr>\n",
       "    <tr>\n",
       "      <th>14</th>\n",
       "      <td>394</td>\n",
       "      <td>MORELOS I</td>\n",
       "      <td>0</td>\n",
       "      <td>19.447324</td>\n",
       "      <td>-99.127710</td>\n",
       "      <td>23082.000000</td>\n",
       "    </tr>\n",
       "    <tr>\n",
       "      <th>15</th>\n",
       "      <td>409</td>\n",
       "      <td>MIRAVALLE</td>\n",
       "      <td>0</td>\n",
       "      <td>19.342886</td>\n",
       "      <td>-99.037800</td>\n",
       "      <td>36390.333333</td>\n",
       "    </tr>\n",
       "    <tr>\n",
       "      <th>16</th>\n",
       "      <td>418</td>\n",
       "      <td>MIGUEL HIDALGO</td>\n",
       "      <td>0</td>\n",
       "      <td>19.312365</td>\n",
       "      <td>-99.138296</td>\n",
       "      <td>NaN</td>\n",
       "    </tr>\n",
       "    <tr>\n",
       "      <th>17</th>\n",
       "      <td>420</td>\n",
       "      <td>MERCED GOMEZ</td>\n",
       "      <td>0</td>\n",
       "      <td>19.364639</td>\n",
       "      <td>-99.201174</td>\n",
       "      <td>36214.277778</td>\n",
       "    </tr>\n",
       "    <tr>\n",
       "      <th>18</th>\n",
       "      <td>430</td>\n",
       "      <td>LOS REYES (PBLO)</td>\n",
       "      <td>0</td>\n",
       "      <td>19.338062</td>\n",
       "      <td>-99.145542</td>\n",
       "      <td>30048.827586</td>\n",
       "    </tr>\n",
       "    <tr>\n",
       "      <th>19</th>\n",
       "      <td>438</td>\n",
       "      <td>LOS CIPRESES</td>\n",
       "      <td>0</td>\n",
       "      <td>19.325677</td>\n",
       "      <td>-99.124732</td>\n",
       "      <td>14726.400000</td>\n",
       "    </tr>\n",
       "    <tr>\n",
       "      <th>20</th>\n",
       "      <td>508</td>\n",
       "      <td>LA JOYITA</td>\n",
       "      <td>0</td>\n",
       "      <td>19.394275</td>\n",
       "      <td>-99.047251</td>\n",
       "      <td>11701.000000</td>\n",
       "    </tr>\n",
       "    <tr>\n",
       "      <th>21</th>\n",
       "      <td>509</td>\n",
       "      <td>LA JOYA</td>\n",
       "      <td>0</td>\n",
       "      <td>19.371477</td>\n",
       "      <td>-99.150515</td>\n",
       "      <td>28377.750000</td>\n",
       "    </tr>\n",
       "    <tr>\n",
       "      <th>22</th>\n",
       "      <td>511</td>\n",
       "      <td>LA ESTACION</td>\n",
       "      <td>0</td>\n",
       "      <td>19.312526</td>\n",
       "      <td>-99.042108</td>\n",
       "      <td>20522.000000</td>\n",
       "    </tr>\n",
       "    <tr>\n",
       "      <th>23</th>\n",
       "      <td>512</td>\n",
       "      <td>LA CRUZ</td>\n",
       "      <td>0</td>\n",
       "      <td>19.330503</td>\n",
       "      <td>-99.207056</td>\n",
       "      <td>54849.333333</td>\n",
       "    </tr>\n",
       "    <tr>\n",
       "      <th>24</th>\n",
       "      <td>519</td>\n",
       "      <td>LA ASUNCION (BARR)</td>\n",
       "      <td>0</td>\n",
       "      <td>19.298512</td>\n",
       "      <td>-99.097125</td>\n",
       "      <td>32565.000000</td>\n",
       "    </tr>\n",
       "    <tr>\n",
       "      <th>25</th>\n",
       "      <td>534</td>\n",
       "      <td>JARDINES DEL PEDREGAL</td>\n",
       "      <td>0</td>\n",
       "      <td>19.316122</td>\n",
       "      <td>-99.202305</td>\n",
       "      <td>36949.071970</td>\n",
       "    </tr>\n",
       "    <tr>\n",
       "      <th>26</th>\n",
       "      <td>558</td>\n",
       "      <td>INFONAVIT (U HAB)</td>\n",
       "      <td>0</td>\n",
       "      <td>19.461112</td>\n",
       "      <td>-99.162040</td>\n",
       "      <td>13056.000000</td>\n",
       "    </tr>\n",
       "    <tr>\n",
       "      <th>27</th>\n",
       "      <td>611</td>\n",
       "      <td>FRANCISCO VILLA</td>\n",
       "      <td>0</td>\n",
       "      <td>19.329386</td>\n",
       "      <td>-99.088367</td>\n",
       "      <td>11207.000000</td>\n",
       "    </tr>\n",
       "    <tr>\n",
       "      <th>28</th>\n",
       "      <td>640</td>\n",
       "      <td>EMILIANO ZAPATA</td>\n",
       "      <td>0</td>\n",
       "      <td>19.408588</td>\n",
       "      <td>-99.126062</td>\n",
       "      <td>23651.000000</td>\n",
       "    </tr>\n",
       "    <tr>\n",
       "      <th>29</th>\n",
       "      <td>652</td>\n",
       "      <td>EL RODEO</td>\n",
       "      <td>0</td>\n",
       "      <td>19.372135</td>\n",
       "      <td>-99.112605</td>\n",
       "      <td>24060.000000</td>\n",
       "    </tr>\n",
       "    <tr>\n",
       "      <th>30</th>\n",
       "      <td>659</td>\n",
       "      <td>EL MOLINO</td>\n",
       "      <td>0</td>\n",
       "      <td>19.321959</td>\n",
       "      <td>-99.144772</td>\n",
       "      <td>48349.391304</td>\n",
       "    </tr>\n",
       "    <tr>\n",
       "      <th>31</th>\n",
       "      <td>661</td>\n",
       "      <td>EL MIRADOR</td>\n",
       "      <td>0</td>\n",
       "      <td>19.336688</td>\n",
       "      <td>-99.156283</td>\n",
       "      <td>28408.400000</td>\n",
       "    </tr>\n",
       "    <tr>\n",
       "      <th>32</th>\n",
       "      <td>666</td>\n",
       "      <td>EL CARMEN</td>\n",
       "      <td>0</td>\n",
       "      <td>19.334458</td>\n",
       "      <td>-99.060104</td>\n",
       "      <td>5145.000000</td>\n",
       "    </tr>\n",
       "    <tr>\n",
       "      <th>33</th>\n",
       "      <td>705</td>\n",
       "      <td>CUAUHTEMOC</td>\n",
       "      <td>0</td>\n",
       "      <td>19.379068</td>\n",
       "      <td>-99.202913</td>\n",
       "      <td>NaN</td>\n",
       "    </tr>\n",
       "    <tr>\n",
       "      <th>34</th>\n",
       "      <td>743</td>\n",
       "      <td>CHIMALISTAC</td>\n",
       "      <td>0</td>\n",
       "      <td>19.343477</td>\n",
       "      <td>-99.185248</td>\n",
       "      <td>NaN</td>\n",
       "    </tr>\n",
       "    <tr>\n",
       "      <th>35</th>\n",
       "      <td>752</td>\n",
       "      <td>CENTRO II</td>\n",
       "      <td>0</td>\n",
       "      <td>19.431838</td>\n",
       "      <td>-99.124940</td>\n",
       "      <td>NaN</td>\n",
       "    </tr>\n",
       "    <tr>\n",
       "      <th>36</th>\n",
       "      <td>753</td>\n",
       "      <td>CENTRO I</td>\n",
       "      <td>0</td>\n",
       "      <td>19.437285</td>\n",
       "      <td>-99.128156</td>\n",
       "      <td>NaN</td>\n",
       "    </tr>\n",
       "    <tr>\n",
       "      <th>37</th>\n",
       "      <td>772</td>\n",
       "      <td>BUENAVISTA II</td>\n",
       "      <td>0</td>\n",
       "      <td>19.346888</td>\n",
       "      <td>-99.050570</td>\n",
       "      <td>22636.000000</td>\n",
       "    </tr>\n",
       "    <tr>\n",
       "      <th>38</th>\n",
       "      <td>773</td>\n",
       "      <td>BUENAVISTA I</td>\n",
       "      <td>0</td>\n",
       "      <td>19.355660</td>\n",
       "      <td>-99.055068</td>\n",
       "      <td>19801.571429</td>\n",
       "    </tr>\n",
       "    <tr>\n",
       "      <th>39</th>\n",
       "      <td>776</td>\n",
       "      <td>BOSQUES DE LAS LOMAS</td>\n",
       "      <td>0</td>\n",
       "      <td>19.398128</td>\n",
       "      <td>-99.248571</td>\n",
       "      <td>47301.585294</td>\n",
       "    </tr>\n",
       "    <tr>\n",
       "      <th>40</th>\n",
       "      <td>808</td>\n",
       "      <td>ANGEL ZIMBRON</td>\n",
       "      <td>0</td>\n",
       "      <td>19.466423</td>\n",
       "      <td>-99.189271</td>\n",
       "      <td>32496.000000</td>\n",
       "    </tr>\n",
       "    <tr>\n",
       "      <th>41</th>\n",
       "      <td>850</td>\n",
       "      <td>ADOLFO LOPEZ MATEOS</td>\n",
       "      <td>0</td>\n",
       "      <td>19.397021</td>\n",
       "      <td>-99.159625</td>\n",
       "      <td>37153.000000</td>\n",
       "    </tr>\n",
       "  </tbody>\n",
       "</table>\n",
       "</div>"
      ],
      "text/plain": [
       "    lista                Colonia Alcaldía  Latitude (generated)  \\\n",
       "0       2            ZACAHUITZCO        0             19.374028   \n",
       "1      31            VALLE GOMEZ        0             19.457492   \n",
       "2      37  VALENTIN GOMEZ FARIAS        0             19.387342   \n",
       "3      67           TIERRA NUEVA        0             19.415400   \n",
       "4      73              TEPETONGO        0             19.351423   \n",
       "5      96            SANTO TOMAS        0             19.468871   \n",
       "6     126             SANTA INES        0             19.361805   \n",
       "7     136          SANTA CECILIA        0             19.288410   \n",
       "8     178      SAN MARCOS (BARR)        0             19.400481   \n",
       "9     182       SAN LUCAS (BARR)        0             19.354063   \n",
       "10    225   SAN BARTOLO EL CHICO        0             19.284430   \n",
       "11    270            PROGRESISTA        0             19.395549   \n",
       "12    357         OCHO DE AGOSTO        0             19.393310   \n",
       "13    380              NATIVITAS        0             19.305710   \n",
       "14    394              MORELOS I        0             19.447324   \n",
       "15    409              MIRAVALLE        0             19.342886   \n",
       "16    418         MIGUEL HIDALGO        0             19.312365   \n",
       "17    420           MERCED GOMEZ        0             19.364639   \n",
       "18    430       LOS REYES (PBLO)        0             19.338062   \n",
       "19    438           LOS CIPRESES        0             19.325677   \n",
       "20    508              LA JOYITA        0             19.394275   \n",
       "21    509                LA JOYA        0             19.371477   \n",
       "22    511            LA ESTACION        0             19.312526   \n",
       "23    512                LA CRUZ        0             19.330503   \n",
       "24    519     LA ASUNCION (BARR)        0             19.298512   \n",
       "25    534  JARDINES DEL PEDREGAL        0             19.316122   \n",
       "26    558      INFONAVIT (U HAB)        0             19.461112   \n",
       "27    611        FRANCISCO VILLA        0             19.329386   \n",
       "28    640        EMILIANO ZAPATA        0             19.408588   \n",
       "29    652               EL RODEO        0             19.372135   \n",
       "30    659              EL MOLINO        0             19.321959   \n",
       "31    661             EL MIRADOR        0             19.336688   \n",
       "32    666              EL CARMEN        0             19.334458   \n",
       "33    705             CUAUHTEMOC        0             19.379068   \n",
       "34    743            CHIMALISTAC        0             19.343477   \n",
       "35    752              CENTRO II        0             19.431838   \n",
       "36    753               CENTRO I        0             19.437285   \n",
       "37    772          BUENAVISTA II        0             19.346888   \n",
       "38    773           BUENAVISTA I        0             19.355660   \n",
       "39    776   BOSQUES DE LAS LOMAS        0             19.398128   \n",
       "40    808          ANGEL ZIMBRON        0             19.466423   \n",
       "41    850    ADOLFO LOPEZ MATEOS        0             19.397021   \n",
       "\n",
       "    Longitude (generated)  Avg. costo_m2_terreno  \n",
       "0              -99.135868           40967.555556  \n",
       "1              -99.120095           19763.700000  \n",
       "2              -99.164973           22073.000000  \n",
       "3              -99.171456           30329.750000  \n",
       "4              -99.268068           33883.000000  \n",
       "5              -99.174043           42969.000000  \n",
       "6              -99.151516           26312.000000  \n",
       "7              -99.042743           13434.000000  \n",
       "8              -99.155014           27001.090909  \n",
       "9              -99.122298           49651.100000  \n",
       "10             -99.130331           24195.333333  \n",
       "11             -99.088198           18574.000000  \n",
       "12             -99.189197           40685.777778  \n",
       "13             -99.065695                    NaN  \n",
       "14             -99.127710           23082.000000  \n",
       "15             -99.037800           36390.333333  \n",
       "16             -99.138296                    NaN  \n",
       "17             -99.201174           36214.277778  \n",
       "18             -99.145542           30048.827586  \n",
       "19             -99.124732           14726.400000  \n",
       "20             -99.047251           11701.000000  \n",
       "21             -99.150515           28377.750000  \n",
       "22             -99.042108           20522.000000  \n",
       "23             -99.207056           54849.333333  \n",
       "24             -99.097125           32565.000000  \n",
       "25             -99.202305           36949.071970  \n",
       "26             -99.162040           13056.000000  \n",
       "27             -99.088367           11207.000000  \n",
       "28             -99.126062           23651.000000  \n",
       "29             -99.112605           24060.000000  \n",
       "30             -99.144772           48349.391304  \n",
       "31             -99.156283           28408.400000  \n",
       "32             -99.060104            5145.000000  \n",
       "33             -99.202913                    NaN  \n",
       "34             -99.185248                    NaN  \n",
       "35             -99.124940                    NaN  \n",
       "36             -99.128156                    NaN  \n",
       "37             -99.050570           22636.000000  \n",
       "38             -99.055068           19801.571429  \n",
       "39             -99.248571           47301.585294  \n",
       "40             -99.189271           32496.000000  \n",
       "41             -99.159625           37153.000000  "
      ]
     },
     "execution_count": 151,
     "metadata": {},
     "output_type": "execute_result"
    }
   ],
   "source": [
    "dfi=missing_alcaldias.reset_index()\n",
    "indice=dfi['index'].tolist()\n",
    "dfi.rename(columns={'index':'lista'})"
   ]
  },
  {
   "attachments": {},
   "cell_type": "markdown",
   "metadata": {},
   "source": [
    "Podemos saber la dirección con coordenadas con la función geolocator y luego asignar la alcaldía de esa dirección a la columna \"Alcaldía\" que tiene datos faltantes"
   ]
  },
  {
   "cell_type": "code",
   "execution_count": 152,
   "metadata": {},
   "outputs": [],
   "source": [
    "for i in indice:\n",
    "    #Obtenemos la dirección a partir de las coordenadas\n",
    "    latitud=missing_alcaldias.loc[i,'Latitude (generated)']\n",
    "    longitud=missing_alcaldias.loc[i,'Longitude (generated)']\n",
    "    coord=(latitud, longitud)\n",
    "    geolocator=Nominatim(user_agent='test/1')\n",
    "    location=geolocator.reverse(f'{latitud},{longitud}') #Aquí ya tenemos la dirección completa\n",
    "    strloc=str(location) #cambiamos el tipo de dato a string\n",
    "    if i==126 or i==270 or i==640:\n",
    "        a=strloc.split(',')[-3] #Dividimos la direccion para obtener solo el dato de la alcaldía (estos datos no tienen CP)\n",
    "    elif i==666:\n",
    "        a='IZTAPALAPA'\n",
    "    elif i==37:\n",
    "        a='BENITO JUAREZ'\n",
    "    else:\n",
    "        a=strloc.split(',')[-4] #Dividimos la direccion para obtener solo el dato de la alcaldía\n",
    "    a=a.strip().upper() #quitamos el espacio y cambiamos a mayúsculas\n",
    "    df.loc[df.index==i,'Alcaldía']=a #Asignamos la alcaldía que este en el indice"
   ]
  },
  {
   "attachments": {},
   "cell_type": "markdown",
   "metadata": {},
   "source": [
    "Vemos la cantidad de datos faltantes en columna Alcaldía"
   ]
  },
  {
   "cell_type": "code",
   "execution_count": 153,
   "metadata": {},
   "outputs": [
    {
     "data": {
      "text/plain": [
       "(0, 5)"
      ]
     },
     "execution_count": 153,
     "metadata": {},
     "output_type": "execute_result"
    }
   ],
   "source": [
    "missing_alcaldias=df.loc[df['Alcaldía']==0]\n",
    "missing_alcaldias.shape"
   ]
  },
  {
   "attachments": {},
   "cell_type": "markdown",
   "metadata": {},
   "source": [
    "Hacemos un dataframe con las filas sin datos en columna costo_m2"
   ]
  },
  {
   "cell_type": "code",
   "execution_count": 154,
   "metadata": {},
   "outputs": [],
   "source": [
    "df['Avg. costo_m2_terreno']=df['Avg. costo_m2_terreno'].fillna(0) #Convertimos NaN a 0\n",
    "missing_cost=df[df['Avg. costo_m2_terreno']==0]"
   ]
  },
  {
   "attachments": {},
   "cell_type": "markdown",
   "metadata": {},
   "source": [
    "Eliminamos las filas con datos faltantes"
   ]
  },
  {
   "cell_type": "code",
   "execution_count": 155,
   "metadata": {},
   "outputs": [],
   "source": [
    "df['Avg. costo_m2_terreno'].replace(0,np.nan, inplace=True) #Reemplazamos por NaN\n",
    "df=df.dropna(subset=\"Avg. costo_m2_terreno\")\n"
   ]
  },
  {
   "attachments": {},
   "cell_type": "markdown",
   "metadata": {},
   "source": [
    "Procesamos los Outliers"
   ]
  },
  {
   "cell_type": "code",
   "execution_count": 156,
   "metadata": {},
   "outputs": [],
   "source": [
    "X=df"
   ]
  },
  {
   "cell_type": "code",
   "execution_count": 157,
   "metadata": {},
   "outputs": [],
   "source": [
    "rcParams['figure.figsize'] = 7, 8\n",
    "rcParams['lines.linewidth'] = 3\n",
    "rcParams['xtick.labelsize'] = 'x-large'\n",
    "rcParams['ytick.labelsize'] = 'x-large'"
   ]
  },
  {
   "cell_type": "code",
   "execution_count": 113,
   "metadata": {},
   "outputs": [
    {
     "data": {
      "image/png": "[encoded data removed]",
      "text/plain": [
       "<Figure size 700x800 with 3 Axes>"
      ]
     },
     "metadata": {},
     "output_type": "display_data"
    }
   ],
   "source": [
    "col_num=['Latitude (generated)','Longitude (generated)','Avg. costo_m2_terreno']\n",
    "for i in range(0,len(col_num)):\n",
    "    plt.subplot(1, len(col_num), i+1)\n",
    "    sns.boxplot(y=X[col_num[i]], color='blue', orient='v')\n",
    "    plt.tight_layout()\n"
   ]
  },
  {
   "cell_type": "code",
   "execution_count": 158,
   "metadata": {},
   "outputs": [
    {
     "name": "stdout",
     "output_type": "stream",
     "text": [
      "Tamaño muestra: 869\n",
      "Total Outliers: 8\n",
      "Muestra sin Outliers: 861\n"
     ]
    }
   ],
   "source": [
    "col_num=['Avg. costo_m2_terreno']\n",
    "df_Limpieza = X\n",
    "print(f'Tamaño muestra: {len(df_Limpieza)}')\n",
    "\n",
    "filtro1 = np.array([True] * len(df_Limpieza))\n",
    "\n",
    "for col in col_num:\n",
    "    zscore = abs(stats.zscore(df_Limpieza[col])) \n",
    "    filtro1 = (zscore < 2.5) & filtro1  #PONEMOS UN FILTRO DE ZSCORE >= 2.5\n",
    "    \n",
    "df_SinOutliers = df_Limpieza[filtro1] \n",
    "\n",
    "print(f'Total Outliers: {len(df_Limpieza)-len(df_SinOutliers)}')\n",
    "print(f'Muestra sin Outliers: {len(df_SinOutliers)}')"
   ]
  },
  {
   "cell_type": "code",
   "execution_count": 115,
   "metadata": {},
   "outputs": [
    {
     "data": {
      "image/png": "[encoded data removed]",
      "text/plain": [
       "<Figure size 700x800 with 3 Axes>"
      ]
     },
     "metadata": {},
     "output_type": "display_data"
    }
   ],
   "source": [
    "col_num=['Latitude (generated)','Longitude (generated)','Avg. costo_m2_terreno']\n",
    "for i in range(0,len(col_num)):\n",
    "    plt.subplot(1, len(col_num), i+1)\n",
    "    sns.boxplot(y=df_SinOutliers[col_num[i]], color='blue', orient='v')\n",
    "    plt.tight_layout()"
   ]
  },
  {
   "attachments": {},
   "cell_type": "markdown",
   "metadata": {},
   "source": [
    "Concatenamos con missing_cost"
   ]
  },
  {
   "cell_type": "code",
   "execution_count": 159,
   "metadata": {},
   "outputs": [],
   "source": [
    "df_SinOutliers=pd.concat([df_SinOutliers,missing_cost])"
   ]
  },
  {
   "attachments": {},
   "cell_type": "markdown",
   "metadata": {},
   "source": [
    "Quitamos los acentos de la columna Alcaldía"
   ]
  },
  {
   "cell_type": "code",
   "execution_count": 162,
   "metadata": {},
   "outputs": [],
   "source": [
    "def acentos(s):\n",
    "    replacements=(('Á','A'),('É','E'),('Í','I'),('Ó','O'),('U','U'))\n",
    "    for a, b in replacements:\n",
    "        s = s.replace(a, b).replace(a.upper(), b.upper())\n",
    "    return s\n",
    "\n",
    "for i in df_SinOutliers['Alcaldía']:\n",
    "    df_SinOutliers.loc[df_SinOutliers['Alcaldía']==i, 'Alcaldía']=acentos(i)\n"
   ]
  },
  {
   "cell_type": "code",
   "execution_count": 163,
   "metadata": {},
   "outputs": [
    {
     "data": {
      "text/html": [
       "<div>\n",
       "<style scoped>\n",
       "    .dataframe tbody tr th:only-of-type {\n",
       "        vertical-align: middle;\n",
       "    }\n",
       "\n",
       "    .dataframe tbody tr th {\n",
       "        vertical-align: top;\n",
       "    }\n",
       "\n",
       "    .dataframe thead th {\n",
       "        text-align: right;\n",
       "    }\n",
       "</style>\n",
       "<table border=\"1\" class=\"dataframe\">\n",
       "  <thead>\n",
       "    <tr style=\"text-align: right;\">\n",
       "      <th></th>\n",
       "      <th>Colonia</th>\n",
       "      <th>Alcaldía</th>\n",
       "      <th>Latitude (generated)</th>\n",
       "      <th>Longitude (generated)</th>\n",
       "      <th>Avg. costo_m2_terreno</th>\n",
       "    </tr>\n",
       "  </thead>\n",
       "  <tbody>\n",
       "    <tr>\n",
       "      <th>0</th>\n",
       "      <td>ZONA MILITAR FAVE SEDENA (U HAB)</td>\n",
       "      <td>IZTAPALAPA</td>\n",
       "      <td>19.311541</td>\n",
       "      <td>-99.083730</td>\n",
       "      <td>0.000000</td>\n",
       "    </tr>\n",
       "    <tr>\n",
       "      <th>1</th>\n",
       "      <td>ZENON DELGADO</td>\n",
       "      <td>ALVARO OBREGON</td>\n",
       "      <td>19.389579</td>\n",
       "      <td>-99.216276</td>\n",
       "      <td>32988.000000</td>\n",
       "    </tr>\n",
       "    <tr>\n",
       "      <th>2</th>\n",
       "      <td>ZACAHUITZCO</td>\n",
       "      <td>IZTAPALAPA</td>\n",
       "      <td>19.374028</td>\n",
       "      <td>-99.135868</td>\n",
       "      <td>40967.555556</td>\n",
       "    </tr>\n",
       "    <tr>\n",
       "      <th>3</th>\n",
       "      <td>XOTEPINGO</td>\n",
       "      <td>COYOACAN</td>\n",
       "      <td>19.327916</td>\n",
       "      <td>-99.140440</td>\n",
       "      <td>39393.166667</td>\n",
       "    </tr>\n",
       "    <tr>\n",
       "      <th>4</th>\n",
       "      <td>XOCO</td>\n",
       "      <td>BENITO JUAREZ</td>\n",
       "      <td>19.361136</td>\n",
       "      <td>-99.167825</td>\n",
       "      <td>47916.315789</td>\n",
       "    </tr>\n",
       "    <tr>\n",
       "      <th>...</th>\n",
       "      <td>...</td>\n",
       "      <td>...</td>\n",
       "      <td>...</td>\n",
       "      <td>...</td>\n",
       "      <td>...</td>\n",
       "    </tr>\n",
       "    <tr>\n",
       "      <th>847</th>\n",
       "      <td>AGRICOLA ORIENTAL I</td>\n",
       "      <td>IZTACALCO</td>\n",
       "      <td>19.402220</td>\n",
       "      <td>-99.077949</td>\n",
       "      <td>0.000000</td>\n",
       "    </tr>\n",
       "    <tr>\n",
       "      <th>854</th>\n",
       "      <td>ACTIPAN</td>\n",
       "      <td>BENITO JUAREZ</td>\n",
       "      <td>19.369901</td>\n",
       "      <td>-99.178427</td>\n",
       "      <td>0.000000</td>\n",
       "    </tr>\n",
       "    <tr>\n",
       "      <th>859</th>\n",
       "      <td>20 DE NOVIEMBRE (AMPL)</td>\n",
       "      <td>VENUSTIANO CARRANZA</td>\n",
       "      <td>19.443236</td>\n",
       "      <td>-99.114841</td>\n",
       "      <td>0.000000</td>\n",
       "    </tr>\n",
       "    <tr>\n",
       "      <th>864</th>\n",
       "      <td>10 DE ABRIL</td>\n",
       "      <td>MIGUEL HIDALGO</td>\n",
       "      <td>19.448867</td>\n",
       "      <td>-99.209112</td>\n",
       "      <td>0.000000</td>\n",
       "    </tr>\n",
       "    <tr>\n",
       "      <th>867</th>\n",
       "      <td>5 DE MAYO</td>\n",
       "      <td>MIGUEL HIDALGO</td>\n",
       "      <td>19.448798</td>\n",
       "      <td>-99.199958</td>\n",
       "      <td>0.000000</td>\n",
       "    </tr>\n",
       "  </tbody>\n",
       "</table>\n",
       "<p>1041 rows × 5 columns</p>\n",
       "</div>"
      ],
      "text/plain": [
       "                              Colonia             Alcaldía  \\\n",
       "0    ZONA MILITAR FAVE SEDENA (U HAB)           IZTAPALAPA   \n",
       "1                       ZENON DELGADO       ALVARO OBREGON   \n",
       "2                         ZACAHUITZCO           IZTAPALAPA   \n",
       "3                           XOTEPINGO             COYOACAN   \n",
       "4                                XOCO        BENITO JUAREZ   \n",
       "..                                ...                  ...   \n",
       "847               AGRICOLA ORIENTAL I            IZTACALCO   \n",
       "854                           ACTIPAN        BENITO JUAREZ   \n",
       "859            20 DE NOVIEMBRE (AMPL)  VENUSTIANO CARRANZA   \n",
       "864                       10 DE ABRIL       MIGUEL HIDALGO   \n",
       "867                         5 DE MAYO       MIGUEL HIDALGO   \n",
       "\n",
       "     Latitude (generated)  Longitude (generated)  Avg. costo_m2_terreno  \n",
       "0               19.311541             -99.083730               0.000000  \n",
       "1               19.389579             -99.216276           32988.000000  \n",
       "2               19.374028             -99.135868           40967.555556  \n",
       "3               19.327916             -99.140440           39393.166667  \n",
       "4               19.361136             -99.167825           47916.315789  \n",
       "..                    ...                    ...                    ...  \n",
       "847             19.402220             -99.077949               0.000000  \n",
       "854             19.369901             -99.178427               0.000000  \n",
       "859             19.443236             -99.114841               0.000000  \n",
       "864             19.448867             -99.209112               0.000000  \n",
       "867             19.448798             -99.199958               0.000000  \n",
       "\n",
       "[1041 rows x 5 columns]"
      ]
     },
     "execution_count": 163,
     "metadata": {},
     "output_type": "execute_result"
    }
   ],
   "source": [
    "df_SinOutliers"
   ]
  },
  {
   "attachments": {},
   "cell_type": "markdown",
   "metadata": {},
   "source": [
    "Distribución del precio por m2"
   ]
  },
  {
   "cell_type": "code",
   "execution_count": 223,
   "metadata": {},
   "outputs": [
    {
     "data": {
      "image/png": "[encoded data removed]",
      "text/plain": [
       "<Figure size 700x800 with 1 Axes>"
      ]
     },
     "metadata": {},
     "output_type": "display_data"
    }
   ],
   "source": [
    "plt.hist(df_SinOutliers[\"Avg. costo_m2_terreno\"])\n",
    "plt.xlabel(\"Precio (m2)\")\n",
    "plt.ylabel(\"Count\")\n",
    "plt.title(\"Distribución del precio por m2\");"
   ]
  },
  {
   "attachments": {},
   "cell_type": "markdown",
   "metadata": {},
   "source": [
    "Obtenemos el costo promedio por Alcaldía"
   ]
  },
  {
   "cell_type": "code",
   "execution_count": 199,
   "metadata": {},
   "outputs": [
    {
     "name": "stderr",
     "output_type": "stream",
     "text": [
      "C:\\Users\\Jhovany Lara\\AppData\\Local\\Temp\\ipykernel_13452\\2826246246.py:1: FutureWarning: The default value of numeric_only in DataFrameGroupBy.mean is deprecated. In a future version, numeric_only will default to False. Either specify numeric_only or select only columns which should be valid for the function.\n",
      "  df_promedio=df_SinOutliers.groupby('Alcaldía', as_index=False).mean()\n"
     ]
    },
    {
     "data": {
      "text/html": [
       "<div>\n",
       "<style scoped>\n",
       "    .dataframe tbody tr th:only-of-type {\n",
       "        vertical-align: middle;\n",
       "    }\n",
       "\n",
       "    .dataframe tbody tr th {\n",
       "        vertical-align: top;\n",
       "    }\n",
       "\n",
       "    .dataframe thead th {\n",
       "        text-align: right;\n",
       "    }\n",
       "</style>\n",
       "<table border=\"1\" class=\"dataframe\">\n",
       "  <thead>\n",
       "    <tr style=\"text-align: right;\">\n",
       "      <th></th>\n",
       "      <th>Alcaldía</th>\n",
       "      <th>Latitude (generated)</th>\n",
       "      <th>Longitude (generated)</th>\n",
       "      <th>Avg. costo_m2_terreno</th>\n",
       "    </tr>\n",
       "  </thead>\n",
       "  <tbody>\n",
       "    <tr>\n",
       "      <th>11</th>\n",
       "      <td>TLAHUAC</td>\n",
       "      <td>19.284817</td>\n",
       "      <td>-99.026573</td>\n",
       "      <td>12600.134615</td>\n",
       "    </tr>\n",
       "    <tr>\n",
       "      <th>14</th>\n",
       "      <td>XOCHIMILCO</td>\n",
       "      <td>19.255259</td>\n",
       "      <td>-99.103739</td>\n",
       "      <td>17837.437500</td>\n",
       "    </tr>\n",
       "    <tr>\n",
       "      <th>8</th>\n",
       "      <td>IZTAPALAPA</td>\n",
       "      <td>19.355953</td>\n",
       "      <td>-99.077948</td>\n",
       "      <td>19977.132937</td>\n",
       "    </tr>\n",
       "    <tr>\n",
       "      <th>13</th>\n",
       "      <td>VENUSTIANO CARRANZA</td>\n",
       "      <td>19.426288</td>\n",
       "      <td>-99.102725</td>\n",
       "      <td>23002.401985</td>\n",
       "    </tr>\n",
       "    <tr>\n",
       "      <th>6</th>\n",
       "      <td>GUSTAVO A. MADERO</td>\n",
       "      <td>19.489887</td>\n",
       "      <td>-99.115537</td>\n",
       "      <td>23411.816621</td>\n",
       "    </tr>\n",
       "    <tr>\n",
       "      <th>7</th>\n",
       "      <td>IZTACALCO</td>\n",
       "      <td>19.397434</td>\n",
       "      <td>-99.096091</td>\n",
       "      <td>23478.637418</td>\n",
       "    </tr>\n",
       "    <tr>\n",
       "      <th>1</th>\n",
       "      <td>AZCAPOTZALCO</td>\n",
       "      <td>19.481230</td>\n",
       "      <td>-99.183705</td>\n",
       "      <td>26122.224015</td>\n",
       "    </tr>\n",
       "    <tr>\n",
       "      <th>12</th>\n",
       "      <td>TLALPAN</td>\n",
       "      <td>19.280202</td>\n",
       "      <td>-99.171182</td>\n",
       "      <td>28113.571701</td>\n",
       "    </tr>\n",
       "    <tr>\n",
       "      <th>9</th>\n",
       "      <td>LA MAGDALENA CONTRERAS</td>\n",
       "      <td>19.312008</td>\n",
       "      <td>-99.238989</td>\n",
       "      <td>28128.994962</td>\n",
       "    </tr>\n",
       "    <tr>\n",
       "      <th>3</th>\n",
       "      <td>COYOACAN</td>\n",
       "      <td>19.325575</td>\n",
       "      <td>-99.145030</td>\n",
       "      <td>32621.020642</td>\n",
       "    </tr>\n",
       "    <tr>\n",
       "      <th>0</th>\n",
       "      <td>ALVARO OBREGON</td>\n",
       "      <td>19.360332</td>\n",
       "      <td>-99.220850</td>\n",
       "      <td>37501.776296</td>\n",
       "    </tr>\n",
       "    <tr>\n",
       "      <th>2</th>\n",
       "      <td>BENITO JUAREZ</td>\n",
       "      <td>19.380848</td>\n",
       "      <td>-99.158389</td>\n",
       "      <td>39396.073898</td>\n",
       "    </tr>\n",
       "    <tr>\n",
       "      <th>5</th>\n",
       "      <td>CUAUHTEMOC</td>\n",
       "      <td>19.429376</td>\n",
       "      <td>-99.150767</td>\n",
       "      <td>40965.775901</td>\n",
       "    </tr>\n",
       "    <tr>\n",
       "      <th>10</th>\n",
       "      <td>MIGUEL HIDALGO</td>\n",
       "      <td>19.436193</td>\n",
       "      <td>-99.198152</td>\n",
       "      <td>40972.926163</td>\n",
       "    </tr>\n",
       "    <tr>\n",
       "      <th>4</th>\n",
       "      <td>CUAJIMALPA DE MORELOS</td>\n",
       "      <td>19.361186</td>\n",
       "      <td>-99.287779</td>\n",
       "      <td>41723.752192</td>\n",
       "    </tr>\n",
       "  </tbody>\n",
       "</table>\n",
       "</div>"
      ],
      "text/plain": [
       "                  Alcaldía  Latitude (generated)  Longitude (generated)  \\\n",
       "11                 TLAHUAC             19.284817             -99.026573   \n",
       "14              XOCHIMILCO             19.255259             -99.103739   \n",
       "8               IZTAPALAPA             19.355953             -99.077948   \n",
       "13     VENUSTIANO CARRANZA             19.426288             -99.102725   \n",
       "6        GUSTAVO A. MADERO             19.489887             -99.115537   \n",
       "7                IZTACALCO             19.397434             -99.096091   \n",
       "1             AZCAPOTZALCO             19.481230             -99.183705   \n",
       "12                 TLALPAN             19.280202             -99.171182   \n",
       "9   LA MAGDALENA CONTRERAS             19.312008             -99.238989   \n",
       "3                 COYOACAN             19.325575             -99.145030   \n",
       "0           ALVARO OBREGON             19.360332             -99.220850   \n",
       "2            BENITO JUAREZ             19.380848             -99.158389   \n",
       "5               CUAUHTEMOC             19.429376             -99.150767   \n",
       "10          MIGUEL HIDALGO             19.436193             -99.198152   \n",
       "4    CUAJIMALPA DE MORELOS             19.361186             -99.287779   \n",
       "\n",
       "    Avg. costo_m2_terreno  \n",
       "11           12600.134615  \n",
       "14           17837.437500  \n",
       "8            19977.132937  \n",
       "13           23002.401985  \n",
       "6            23411.816621  \n",
       "7            23478.637418  \n",
       "1            26122.224015  \n",
       "12           28113.571701  \n",
       "9            28128.994962  \n",
       "3            32621.020642  \n",
       "0            37501.776296  \n",
       "2            39396.073898  \n",
       "5            40965.775901  \n",
       "10           40972.926163  \n",
       "4            41723.752192  "
      ]
     },
     "execution_count": 199,
     "metadata": {},
     "output_type": "execute_result"
    }
   ],
   "source": [
    "df_promedio=df_SinOutliers.groupby('Alcaldía', as_index=False).mean()\n",
    "df_promedio.sort_values(by=['Avg. costo_m2_terreno'])"
   ]
  },
  {
   "attachments": {},
   "cell_type": "markdown",
   "metadata": {},
   "source": [
    "Ploteamos un Mapbox donde vemos donde se concentran las zonas con el mayor costo"
   ]
  },
  {
   "cell_type": "code",
   "execution_count": 204,
   "metadata": {},
   "outputs": [
    {
     "data": {
      "application/vnd.plotly.v1+json": {
       "config": {
        "plotlyServerURL": "https://plot.ly"
       },
       "data": [
        {
         "customdata": [
          [
           "ZENON DELGADO",
           32988
          ],
          [
           "ZACAHUITZCO",
           40967.555555556
          ],
          [
           "XOTEPINGO",
           39393.166666667
          ],
          [
           "XOCO",
           47916.315789474
          ],
          [
           "VISTA ALEGRE",
           22941
          ],
          [
           "VILLA VERDUN",
           34580.875
          ],
          [
           "VILLA PANAMERICANA 2DA. SECCIN (U HAB)",
           45832.35
          ],
          [
           "VILLA PANAMERICANA 1ERA. SECCIN (U HAB)",
           47050
          ],
          [
           "VILLA OLIMPICA LIBERADOR MIGUEL HIDALGO (U HAB)",
           29137.5
          ],
          [
           "VILLA GUSTAVO A MADERO",
           30032.666666667
          ],
          [
           "VILLA DEL PUENTE FOVISSSTE  (U HAB)",
           32143
          ],
          [
           "VILLA DE CORTES",
           24144
          ],
          [
           "VILLA DE ARAGON (FRACC)",
           32508.5
          ],
          [
           "VILLA COYOACAN",
           41952.291666667
          ],
          [
           "VILLA COAPA (RDCIAL)",
           24376.5
          ],
          [
           "VILLA CENTROAMERICANA (U HAB)",
           11833
          ],
          [
           "VIEJO EJIDO SANTA URSULA COAPA",
           36633.375
          ],
          [
           "VIADUCTO PIEDAD",
           39092.888888889
          ],
          [
           "VIADUCTO  - BALBUENA )CONJ HAB)",
           25667.5
          ],
          [
           "VERONICA ANZURES",
           42186.785714286
          ],
          [
           "VERGEL DE COYOACAN-VERGEL DEL SUR",
           41144
          ],
          [
           "VENTURA PEREZ DE ALBA",
           13606
          ],
          [
           "VASCO DE QUIROGA",
           20412.5
          ],
          [
           "VALLEJO PONIENTE",
           33304.5
          ],
          [
           "VALLEJO II",
           20324
          ],
          [
           "VALLE GOMEZ",
           19763.7
          ],
          [
           "VALLE ESCONDIDO",
           30927
          ],
          [
           "VALLE DEL TEPEYAC",
           16211
          ],
          [
           "VALLE DEL SUR",
           32977.5
          ],
          [
           "VALLE DE TEPEPAN",
           31004.166666667
          ],
          [
           "VALENTIN GOMEZ FARIAS",
           22073
          ],
          [
           "UNIDADES HABITACIONALES DE SANTA ANA PONIENTE II",
           12595.5
          ],
          [
           "UNIDADES HABITACIONALES DE SANTA ANA PONIENTE I",
           9564.75
          ],
          [
           "UN HOGAR PARA NOSOTROS",
           34547
          ],
          [
           "UN HOGAR PARA CADA TRABAJADOR",
           22000
          ],
          [
           "TRES ESTRELLAS",
           12462
          ],
          [
           "TRABAJADORES DEL HIERRO",
           23773.5
          ],
          [
           "TORRES TOREO",
           18151
          ],
          [
           "TORRES SAN PEDRO (U HAB)",
           26154
          ],
          [
           "TORRES LINDAVISTA (FRACC)",
           65102
          ],
          [
           "TORRES DE POTRERO",
           37462.578947368
          ],
          [
           "TORRES DE PADIERNA",
           23000
          ],
          [
           "TORRES DE MIXCOAC (U HAB)",
           32600
          ],
          [
           "TORRE BLANCA",
           30528
          ],
          [
           "TORIELLO GUERRA",
           41623.857142857
          ],
          [
           "TLAZINTLA",
           15000
          ],
          [
           "TLATILCO",
           22813
          ],
          [
           "TLALPAN CENTRO",
           33123.125
          ],
          [
           "TLALCOLIGIA",
           29738.5
          ],
          [
           "TLACOYAQUE (AMPL)",
           28312
          ],
          [
           "TLACOQUEMECATL DEL VALLE",
           43962.220338983
          ],
          [
           "TLACOPAC",
           53340.6
          ],
          [
           "TLACAMACA",
           34104.666666667
          ],
          [
           "TIZAPAN_TIZAPAN SAN ANGEL",
           44620.111111111
          ],
          [
           "TIZAMPAMPANO",
           33061.666666667
          ],
          [
           "TIERRA NUEVA",
           30329.75
          ],
          [
           "TEZOZOMOC",
           22946.5
          ],
          [
           "TETELPAN (PBLO)",
           24070.6
          ],
          [
           "TETELPAN",
           36705.031746032
          ],
          [
           "TESMIC (RDCIAL)",
           3294
          ],
          [
           "TEPEYAC INSURGENTES",
           17582.5
          ],
          [
           "TEPETONGO",
           33883
          ],
          [
           "TEPEPAN (AMPL)",
           34636
          ],
          [
           "TEPALCATES II",
           15654
          ],
          [
           "TENORIOS INFONAVIT 1 Y 2 (U HAB)",
           8594
          ],
          [
           "TAXQUEA",
           34375
          ],
          [
           "TACUBAYA",
           42662
          ],
          [
           "TACUBA",
           32357.304347826
          ],
          [
           "TABLAS DE SAN AGUSTIN",
           32000.75
          ],
          [
           "TABACALERA",
           61536.04
          ],
          [
           "STA MARTHA ACATITLA NTE (AMPL) I",
           16176
          ],
          [
           "STA ISABEL INDUSTRIAL",
           0
          ],
          [
           "STA CRUZ ATOYAC",
           45917.669902913
          ],
          [
           "SOLIDARIDAD EL SALADO (U HAB)",
           12206
          ],
          [
           "SN JUAN TEPEXIMILPA",
           21553.5
          ],
          [
           "SINDICATO MEXICANO DE ELECTRICISTAS",
           32452
          ],
          [
           "SINATEL (AMPL)",
           36595.25
          ],
          [
           "SINATEL",
           42247.5
          ],
          [
           "SIETE MARAVILLAS",
           31296
          ],
          [
           "SECTOR POPULAR",
           29922
          ],
          [
           "SANTO TOMAS AJUSCO (PBLO)",
           1712.666666667
          ],
          [
           "SANTO TOMAS",
           42969
          ],
          [
           "SANTO DOMINGO (PBLO)",
           32151.333333333
          ],
          [
           "SANTIAGO TULYEHUALCO (PBLO)",
           13333
          ],
          [
           "SANTIAGO TEPALCATLALPAN (PBLO)",
           14188.333333333
          ],
          [
           "SANTIAGO ATZACOALCO (PBLO)",
           18916
          ],
          [
           "SANTIAGO ATEPETLAC",
           5802
          ],
          [
           "SANTIAGO ACAHUALTEPEC (PBLO)",
           54225
          ],
          [
           "SANTA URSULA XITLA",
           34852.045454545
          ],
          [
           "SANTA URSULA COYOACAN",
           44517
          ],
          [
           "SANTA URSULA COAPA (PBLO)",
           35640.083333333
          ],
          [
           "SANTA ROSA XOCHIAC (PBLO)",
           14309.75
          ],
          [
           "SANTA ROSA",
           15473
          ],
          [
           "SANTA MARTHA ACATITLA_(PBLO)",
           8355.333333333
          ],
          [
           "SANTA MARTHA ACATITLA",
           15327.5
          ],
          [
           "SANTA MARIA MALINALCO (PBLO)",
           20324.25
          ],
          [
           "SANTA MARIA LA RIBERA IV",
           36176.4
          ],
          [
           "SANTA MARIA LA RIBERA II",
           39242.872340426
          ],
          [
           "SANTA MARIA LA RIBERA I",
           38497.909090909
          ],
          [
           "SANTA MARIA AZTAHUACAN (EJ) I",
           20570.25
          ],
          [
           "SANTA MARIA (U HAB)",
           33393
          ],
          [
           "SANTA LUCIA (BARR)",
           28448
          ],
          [
           "SANTA LUCIA",
           31655.8
          ],
          [
           "SANTA ISABEL TOLA (PBLO)",
           18352.666666667
          ],
          [
           "SANTA INES",
           26312
          ],
          [
           "SANTA FE KM 8.5",
           38171
          ],
          [
           "SANTA FE",
           42693
          ],
          [
           "SANTA CRUZ XOCHITEPEC (PBLO)",
           15000
          ],
          [
           "SANTA CRUZ MEYEHUALCO (U HAB) II",
           17333
          ],
          [
           "SANTA CRUZ ACAYUCAN (PBLO)",
           16393
          ],
          [
           "SANTA CECILIA TEPETLAPA (PBLO)",
           23084
          ],
          [
           "SANTA CECILIA",
           13434
          ],
          [
           "SANTA CATARINA YECAHUIZOTL (PBLO)",
           10363.5
          ],
          [
           "SANTA CATARINA (BARR)",
           45600.833333333
          ],
          [
           "SANTA BARBARA (PBLO)",
           16372.333333333
          ],
          [
           "SANTA BARBARA (BARR) I",
           6912
          ],
          [
           "SANTA APOLONIA (BARR)",
           24472.5
          ],
          [
           "SANTA ANITA",
           13666.5
          ],
          [
           "SAN SIMON TICUMAC",
           36999.407407407
          ],
          [
           "SAN SEBASTIAN TECOLOXTITLAN (PBLO)",
           16160.25
          ],
          [
           "SAN RAFAEL II",
           42729.625
          ],
          [
           "SAN RAFAEL I",
           37846.272727273
          ],
          [
           "SAN PEDRO ZACATENCO (PBLO)",
           36842
          ],
          [
           "SAN PEDRO XALPA (PBLO)",
           31194.5
          ],
          [
           "SAN PEDRO XALPA (AMPL) II",
           11838
          ],
          [
           "SAN PEDRO XALPA (AMPL) I",
           34614.5
          ],
          [
           "SAN PEDRO TLAHUAC (PBLO)",
           6000
          ],
          [
           "SAN PEDRO MARTIR (PBLO)",
           25842.833333333
          ],
          [
           "SAN PEDRO IZTACALCO",
           25587.333333333
          ],
          [
           "SAN PEDRO EL CHICO",
           28125
          ],
          [
           "SAN PEDRO DE LOS  PINOS",
           41439.913043478
          ],
          [
           "SAN PEDRO CUAJIMALPA (PBLO)",
           39619.980392157
          ],
          [
           "SAN PABLO XALPA (U HAB)",
           19391.5
          ],
          [
           "SAN PABLO TEPETLAPA (PBLO)",
           43763
          ],
          [
           "SAN PABLO CHIMALPA (PBLO)",
           42165.8
          ],
          [
           "SAN PABLO (BARR)",
           26438.75
          ],
          [
           "SAN NICOLAS TOTOLAPAN",
           21813
          ],
          [
           "SAN NICOLAS TETELCO (PBLO)",
           2590
          ],
          [
           "SAN MIGUEL-LA ESCALERA (BARR)",
           26293.375
          ],
          [
           "SAN MIGUEL  XICALCO (PBLO)",
           7196
          ],
          [
           "SAN MIGUEL CHAPULTEPEC I",
           51893.9375
          ],
          [
           "SAN MIGUEL AJUSCO (PBLO)",
           27364.25
          ],
          [
           "SAN MIGUEL (BARR)",
           21384.428571429
          ],
          [
           "SAN MIGUEL",
           14000
          ],
          [
           "SAN MARTIN XOCHINAHUAC (PBLO)",
           32292
          ],
          [
           "SAN MARCOS (BARR)",
           27001.090909091
          ],
          [
           "SAN MARCOS (AMPL)",
           29165.5
          ],
          [
           "SAN LUIS TLAXIALTEMALCO (PBLO)",
           15116
          ],
          [
           "SAN LUCAS XOCHIMANCA (PBLO)",
           3864
          ],
          [
           "SAN LUCAS (BARR)",
           49651.1
          ],
          [
           "SAN LORENZO TEZONCO II (U HAB)",
           11321
          ],
          [
           "SAN LORENZO HUIPULCO",
           26875.444444444
          ],
          [
           "SAN LORENZO ATEMOAYA (PBLO)",
           9681
          ],
          [
           "SAN LORENZO ACOPILCO (PBLO)",
           18768.333333333
          ],
          [
           "SAN JUAN Y GUADALUPE TICOMAN (BARR)",
           13056
          ],
          [
           "SAN JUAN XALPA II",
           14815.5
          ],
          [
           "SAN JUAN XALPA I",
           14839
          ],
          [
           "SAN JUAN TLIHUACA (PBLO)",
           30916.333333333
          ],
          [
           "SAN JUAN TEPEPAN",
           17455
          ],
          [
           "SAN JUAN III (U HAB)",
           20755.5
          ],
          [
           "SAN JUAN DE ARAGON (PBLO)",
           21584.538461538
          ],
          [
           "SAN JUAN DE ARAGON 4A  Y 5A SECCION (U HAB) II",
           25933
          ],
          [
           "SAN JUAN DE ARAGON 4A  Y 5A SECCION (U HAB) I",
           18263.5
          ],
          [
           "SAN JUAN DE ARAGON 1A SECCION (U HAB) I",
           21053
          ],
          [
           "SAN JOSE LAS PERITAS",
           8390
          ],
          [
           "SAN JOSE INSURGENTES",
           52489.5
          ],
          [
           "SAN JOSE DE LOS CEDROS II",
           41330.3125
          ],
          [
           "SAN JOAQUIN",
           25657.5
          ],
          [
           "SAN JERONIMO ACULCO - LIDICE (PBLO)",
           38803.391608392
          ],
          [
           "SAN GREGORIO ATLAPULCO (PBLO)",
           36522
          ],
          [
           "SAN FRANCISCO TLALNEPANTLA (PBLO)",
           3
          ],
          [
           "SAN FRANCISCO TETECALA (PBLO)",
           28038
          ],
          [
           "SAN FRANCISCO CULHUACAN (PBLO)",
           17817.5
          ],
          [
           "SAN FRANCISCO (BARR)",
           36103.444444444
          ],
          [
           "SAN FRANCISCO",
           32876.25
          ],
          [
           "SAN FELIPE DE JESUS IV",
           24000
          ],
          [
           "SAN FELIPE DE JESUS III",
           34770.5
          ],
          [
           "SAN FELIPE DE JESUS I",
           13750
          ],
          [
           "SAN FCO XICALTONGO",
           25843
          ],
          [
           "SAN ESTEBAN (BARR)",
           23158
          ],
          [
           "SAN DIEGO OCOYOACAC",
           22568.5
          ],
          [
           "SAN DIEGO CHURUBUSCO",
           44077.5
          ],
          [
           "SAN BERNABE OCOTEPEC (PBLO)",
           31875
          ],
          [
           "SAN BERNABE (BARR)",
           29939
          ],
          [
           "SAN BARTOLO EL CHICO",
           24195.333333333
          ],
          [
           "SAN BARTOLO ATEPEHUACAN (PBLO)",
           46703.666666667
          ],
          [
           "SAN BARTOLO AMEYALCO (PBLO)",
           30285.035714286
          ],
          [
           "SAN ANTONIO (FRACC)",
           31733.5
          ],
          [
           "SAN ANGEL INN",
           62662.222222222
          ],
          [
           "SAN ANGEL",
           61702.923076923
          ],
          [
           "SAN ANDRES TOTOLTEPEC (PBLO)",
           19196.710526316
          ],
          [
           "SAN ANDRES TETEPILCO (PBLO)",
           20789
          ],
          [
           "SAN ANDRES DE LAS SALINAS (PBLO)",
           9535
          ],
          [
           "SAN ANDRES (BARR)",
           30668
          ],
          [
           "SAN ALVARO",
           42978
          ],
          [
           "ROMERO RUBIO",
           21274.4
          ],
          [
           "ROMERO DE TERREROS (FRACC)",
           31751.285714286
          ],
          [
           "ROMERO DE TERREROS",
           46337.333333333
          ],
          [
           "ROMA SUR II",
           52659.743589744
          ],
          [
           "ROMA SUR I",
           56774.515151515
          ],
          [
           "ROMA NORTE III",
           56766.824561404
          ],
          [
           "ROMA NORTE II",
           52226.885245902
          ],
          [
           "ROMA NORTE I",
           59135.666666667
          ],
          [
           "RINCON DE LA BOLSA",
           20133
          ],
          [
           "REYNOSA TAMAULIPAS",
           20312.5
          ],
          [
           "RESIDENCIAL MARIA ISABEL",
           39115.16
          ],
          [
           "RESIDENCIAL INSURGENTES SUR (U HAB)",
           19348.5
          ],
          [
           "REFORMA SOCIAL",
           61547.277777778
          ],
          [
           "REFORMA PENSIL",
           65116
          ],
          [
           "REFORMA IZTACCIHUATL SUR",
           29557.25
          ],
          [
           "REFORMA IZTACCIHUATL NORTE",
           34442.666666667
          ],
          [
           "REAL DEL MORAL (FRACC)",
           21097
          ],
          [
           "REACOMODO EL CUERNITO",
           21124.5
          ],
          [
           "RANCHO EL ROSARIO",
           29180
          ],
          [
           "RAMOS MILLAN BRAMADERO I",
           42903
          ],
          [
           "PUEBLO NUEVO ALTO",
           14621.5
          ],
          [
           "PUEBLA",
           8169.833333333
          ],
          [
           "PROVIDENCIA",
           26120.5
          ],
          [
           "PROGRESO TIZAPAN",
           38680.19047619
          ],
          [
           "PROGRESO NACIONAL (AMPL)",
           15541
          ],
          [
           "PROGRESO DEL SUR",
           27778
          ],
          [
           "PROGRESISTA",
           18574
          ],
          [
           "PRO HOGAR II",
           27166.666666667
          ],
          [
           "PRO HOGAR I",
           25299.666666667
          ],
          [
           "PRIVADA CENTENARIO",
           35246
          ],
          [
           "PRESIDENTES EJIDALES SEGUNDA SECCION",
           17795.5
          ],
          [
           "PRESIDENTES DE MEXICO",
           8583
          ],
          [
           "PRESIDENTES 2DA (AMPL)",
           29167
          ],
          [
           "PRESIDENTES 1RA (AMPL)",
           59814.103448276
          ],
          [
           "PREDIO LA ANGOSTURA",
           39394
          ],
          [
           "PRADOS DEL ROSARIO",
           23014
          ],
          [
           "PRADOS DE COYOACAN",
           32202.5
          ],
          [
           "PRADO COAPA 3A SECCION-POTRERO ACOXPA",
           39712.333333333
          ],
          [
           "PRADO COAPA 2A SECCION",
           37451.833333333
          ],
          [
           "PRADO CHURUBUSCO",
           24102.888888889
          ],
          [
           "PORTALES ORIENTE",
           37030.851851852
          ],
          [
           "PORTALES IV",
           44250.5
          ],
          [
           "PORTALES III",
           37449.979591837
          ],
          [
           "PORTALES II",
           39487.375
          ],
          [
           "PORTALES I",
           41278.196969697
          ],
          [
           "POPOTLA II",
           32155.133333333
          ],
          [
           "POPOTLA I",
           24871
          ],
          [
           "POPO (AMPL)",
           42308
          ],
          [
           "POPO",
           44173
          ],
          [
           "PLUTARCO ELIAS CALLES (U HAB)",
           19629.666666667
          ],
          [
           "PLAZUELA DEL PEDREGAL",
           7210
          ],
          [
           "PLANETARIO LINDAVISTA",
           40476
          ],
          [
           "PIEDAD NARVARTE",
           47285.071428571
          ],
          [
           "PETROLERA",
           29793.5
          ],
          [
           "PERIODISTA FRANCISCO ZARCO",
           35474.714285714
          ],
          [
           "PEON DE LOS BAOS",
           25180.5
          ],
          [
           "PENSIL SAN JUANICO",
           29310
          ],
          [
           "PENSIL NORTE",
           23165.833333333
          ],
          [
           "PENSADOR MEXICANO II",
           28786.333333333
          ],
          [
           "PEMEX LINDAVISTA (U HAB)",
           30000
          ],
          [
           "PEDREGAL DE STO DOMINGO VI",
           35000
          ],
          [
           "PEDREGAL DE STO DOMINGO III",
           21865
          ],
          [
           "PEDREGAL DE STO DOMINGO II",
           35359
          ],
          [
           "PEDREGAL DE STA URSULA XITLA",
           16077
          ],
          [
           "PEDREGAL DE SN NICOLAS 4A SECC II",
           22952
          ],
          [
           "PEDREGAL DE SN NICOLAS 4A SECC I",
           23864
          ],
          [
           "PEDREGAL DE SN NICOLAS 3A SECC",
           29000
          ],
          [
           "PEDREGAL DE SN NICOLAS 1A SECC",
           21390.4
          ],
          [
           "PEDREGAL DE SANTA URSULA IV",
           30000
          ],
          [
           "PEDREGAL DE SANTA URSULA II",
           17592.5
          ],
          [
           "PEDREGAL DE SAN ANGEL (AMPL)",
           49353.789473684
          ],
          [
           "PEDREGAL 2 (CONJ HAB)",
           38850
          ],
          [
           "PASTEROS",
           29707
          ],
          [
           "PASEOS DEL SUR",
           24208
          ],
          [
           "PASEOS DE TAXQUEA I",
           29361.609756098
          ],
          [
           "PASEOS DE CHURUBUSCO",
           46244.25
          ],
          [
           "PARQUES DEL PEDREGAL",
           47048.884615385
          ],
          [
           "PARQUE SAN ANDRES",
           52237.75
          ],
          [
           "PARQUE RESIDENCIAL SAN ANTONIO (U HAB)",
           29903.875
          ],
          [
           "PANTITLAN V",
           11072
          ],
          [
           "PANTITLAN IV",
           16785.666666667
          ],
          [
           "PANTITLAN III",
           20059.578947368
          ],
          [
           "PANTITLAN II",
           14356
          ],
          [
           "PANTITLAN I",
           20209
          ],
          [
           "PALO ALTO (GRANJAS)",
           47427.1
          ],
          [
           "PALMITAS (POLANCO)",
           62016.5
          ],
          [
           "PALMAS",
           47137
          ],
          [
           "OXTOPULCO UNIVERSIDAD",
           52008.666666667
          ],
          [
           "OLIVAR DE LOS PADRES",
           39643.688311688
          ],
          [
           "OLIMPICA",
           43247.2
          ],
          [
           "OJO DE AGUA",
           22143
          ],
          [
           "OCOTLA - OCOTLA CHICO",
           37500
          ],
          [
           "OCOTILLOS",
           33929
          ],
          [
           "OCHO DE AGOSTO",
           40685.777777778
          ],
          [
           "OBSERVATORIO",
           50978
          ],
          [
           "OBRERA I",
           44358
          ],
          [
           "NUEVO SAN RAFAEL (BARR)",
           25439
          ],
          [
           "NUEVA VALLEJO",
           22198
          ],
          [
           "NUEVA SANTA MARIA",
           22781.333333333
          ],
          [
           "NUEVA ORIENTAL COAPA-EX HACIENDA COAPA",
           26699.866666667
          ],
          [
           "NUEVA DIAZ ORDAZ",
           16569
          ],
          [
           "NUEVA ATZACOALCO II",
           22500
          ],
          [
           "NUEVA ARGENTINA (ARGENTINA PONIENTE)",
           29299.428571429
          ],
          [
           "NONOALCO-TLATELOLCO (U HAB) I",
           25000
          ],
          [
           "NONOALCO",
           44147.660714286
          ],
          [
           "NIOS HEROES DE CHAPULTEPEC",
           31947
          ],
          [
           "NIO JESUS (BARR)",
           42128.333333333
          ],
          [
           "NEXTITLA",
           25556
          ],
          [
           "NEXTENGO (BARR)",
           33607.444444444
          ],
          [
           "NAVIDAD (GRANJAS DE NAVIDAD)",
           42216.4
          ],
          [
           "NARVARTE V",
           43257.431818182
          ],
          [
           "NARVARTE IV",
           45631.5129683
          ],
          [
           "NARVARTE III",
           41929.052631579
          ],
          [
           "NARVARTE I",
           40555.054054054
          ],
          [
           "NARCISO MENDOZA-VILLA COAPA SUPER MANZANA 7 (U HAB)",
           26500
          ],
          [
           "NARCISO MENDOZA-VILLA COAPA SUPER MANZANA 6 (U HAB)",
           27308
          ],
          [
           "NARCISO MENDOZA-VILLA COAPA SUPER MANZANA 1 (U HAB)",
           23009.666666667
          ],
          [
           "NARCISO MENDOZA VILLA COAPA SUPERMANZANA 8 (U HAB)",
           30307
          ],
          [
           "NAPOLES",
           51939.506329114
          ],
          [
           "MOSCO CHINAMPA",
           23919
          ],
          [
           "MORELOS I",
           23082
          ],
          [
           "MORALES SECCION PALMAS (POLANCO)",
           63277.125
          ],
          [
           "MONTE DE PIEDAD",
           29778.666666667
          ],
          [
           "MOLINO DE ROSAS",
           26099
          ],
          [
           "MODERNA",
           22147.409090909
          ],
          [
           "MODELO PENSIL",
           40822.5
          ],
          [
           "MODELO (U)",
           28643
          ],
          [
           "MOCTEZUMA 2A SECCION IV",
           16750
          ],
          [
           "MOCTEZUMA 2A SECCION III",
           31998
          ],
          [
           "MOCTEZUMA 2A SECCION II",
           29284.5
          ],
          [
           "MOCTEZUMA 2A SECCION I",
           28552.5
          ],
          [
           "MOCTEZUMA 1A SECCION",
           12802.25
          ],
          [
           "MIXCOATL",
           15455
          ],
          [
           "MIXCOAC",
           41043.044444444
          ],
          [
           "MIRAVALLE",
           36390.333333333
          ],
          [
           "MIRADOR I",
           11484
          ],
          [
           "MIRADOR 2A y 3A SECC",
           16209
          ],
          [
           "MINERVA",
           16120
          ],
          [
           "MINAS DE CRISTO",
           25466.333333333
          ],
          [
           "MILITAR 1 K LOMAS DE SOTELO (U HAB)",
           46892.333333333
          ],
          [
           "MIGUEL HIDALGO OTE",
           22039
          ],
          [
           "MIGUEL HIDALGO (U HAB)",
           36994
          ],
          [
           "MERCED GOMEZ",
           36214.277777778
          ],
          [
           "MERCED BALBUENA",
           17714
          ],
          [
           "MARTIN CARRERA I",
           15367.5
          ],
          [
           "MARIA DEL CARMEN",
           35995.666666667
          ],
          [
           "MAGDALENA DE LAS SALINAS",
           26311
          ],
          [
           "MAGDALENA ATLAZOLPA (PBLO)",
           17508
          ],
          [
           "MA ESTHER ZUNO DE ECHEVERRIA-TLALPUENTE",
           3235
          ],
          [
           "LOS ROBLES (FRACC)",
           26559
          ],
          [
           "LOS REYES (PBLO)",
           30048.827586207
          ],
          [
           "LOS REYES (BARR)",
           23532.333333333
          ],
          [
           "LOS REYES",
           36782.5
          ],
          [
           "LOS OLIVOS (FRACC)",
           21460
          ],
          [
           "LOS MORALES (POLANCO)",
           57603
          ],
          [
           "LOS GIRASOLES II",
           35526
          ],
          [
           "LOS GIRASOLES I",
           10404
          ],
          [
           "LOS CIPRESES",
           14726.4
          ],
          [
           "LOS CEDROS (FRACC)",
           7939
          ],
          [
           "LOS ANGELES",
           9453.5
          ],
          [
           "LORENZO BOTURINI",
           25447.6
          ],
          [
           "LOMAS QUEBRADAS",
           39580.333333333
          ],
          [
           "LOMAS HIDALGO",
           20858.857142857
          ],
          [
           "LOMAS ESTRELLA 2A SECC II",
           8397.666666667
          ],
          [
           "LOMAS ESTRELLA 2A SECC I",
           22081.5
          ],
          [
           "LOMAS EL MANTO",
           10600
          ],
          [
           "LOMAS DEL PEDREGAL",
           59553.75
          ],
          [
           "LOMAS DE VISTA HERMOSA",
           43202.219512195
          ],
          [
           "LOMAS DE TETELPAN",
           44170.615384615
          ],
          [
           "LOMAS DE TEPEMECATL",
           1825.5
          ],
          [
           "LOMAS DE TARANGO",
           25056.166666667
          ],
          [
           "LOMAS DE SANTA FE II",
           59739.020408163
          ],
          [
           "LOMAS DE SANTA FE",
           55042.384615385
          ],
          [
           "LOMAS DE SAN LORENZO II",
           5271
          ],
          [
           "LOMAS DE SAN BERNABE",
           10504
          ],
          [
           "LOMAS DE SAN ANGEL INN",
           47703.714285714
          ],
          [
           "LOMAS DE REFORMA",
           59347.454545455
          ],
          [
           "LOMAS DE PLATEROS (U HAB) I",
           21885.25
          ],
          [
           "LOMAS DE  PADIERNA II",
           36860.125
          ],
          [
           "LOMAS DE  PADIERNA I",
           25348.75
          ],
          [
           "LOMAS DE MEMETLA",
           39374.588235294
          ],
          [
           "LOMAS DE LOS CEDROS",
           33333
          ],
          [
           "LOMAS DE LOS ANGELES TETELPAN",
           51282
          ],
          [
           "LOMAS DE LAS AGUILAS",
           33301.75
          ],
          [
           "LOMAS DE GUADALUPE",
           31679
          ],
          [
           "LOMAS DE CHAPULTEPEC",
           62445.243243243
          ],
          [
           "LOMAS DE BEZARES",
           44945.75
          ],
          [
           "LOMAS DE BARRILACO (LOMAS DE CHAPULTEPEC)",
           57329.0625
          ],
          [
           "LOMAS DE AXOMIATLA",
           35092.416666667
          ],
          [
           "LOMAS ALTAS",
           49197.272727273
          ],
          [
           "LINDAVISTA VALLEJO (U HAB)",
           23968.5
          ],
          [
           "LINDAVISTA II",
           22762.5
          ],
          [
           "LINDAVISTA I",
           40373
          ],
          [
           "LIBERALES DE 1857",
           52841
          ],
          [
           "LEYES DE REFORMA 3A SECCION I",
           21172.333333333
          ],
          [
           "LEYES DE REFORMA 1A SECCION",
           16417
          ],
          [
           "LETRAN VALLE",
           43627.466666667
          ],
          [
           "LEGARIA",
           29443.833333333
          ],
          [
           "LAS TINAJAS",
           53335.214285714
          ],
          [
           "LAS CUEVITAS",
           27056
          ],
          [
           "LAS ARBOLEDAS",
           19000
          ],
          [
           "LAS AGUILAS SECC HORNOS",
           33864
          ],
          [
           "LAS AGUILAS (AMPL)",
           34737.052631579
          ],
          [
           "LAS AGUILAS",
           44186.275362319
          ],
          [
           "LA RAZA",
           14381
          ],
          [
           "LA PURISIMA TICOMAN (BARR)",
           26926
          ],
          [
           "LA PRECIOSA",
           25228.75
          ],
          [
           "LA PRADERA",
           27143
          ],
          [
           "LA POLVORILLA",
           10563
          ],
          [
           "LA PASTORA",
           13485
          ],
          [
           "LA OTRA BANDA",
           46905.933333333
          ],
          [
           "LA NORIA TEPEPAN",
           9777
          ],
          [
           "LA NORIA",
           16162.666666667
          ],
          [
           "LA NOPALERA",
           9906
          ],
          [
           "LA MAGDALENA PETLACALCO (PBLO)",
           13111
          ],
          [
           "LA MAGDALENA ATLITIC (PBLO)",
           31588
          ],
          [
           "LA  LONJA",
           35495
          ],
          [
           "LA LOMA",
           56739.548387097
          ],
          [
           "LA LAGUNA TICOMAN (BARR)",
           20912.333333333
          ],
          [
           "LA JOYITA",
           11701
          ],
          [
           "LA JOYA",
           28377.75
          ],
          [
           "LA FAMA",
           35714
          ],
          [
           "LA ESTACION",
           20522
          ],
          [
           "LA CRUZ",
           54849.333333333
          ],
          [
           "LA CONCHA",
           27146.25
          ],
          [
           "LA CONCEPCION (BARR)",
           35255.75
          ],
          [
           "LA CASCADA",
           36836.666666667
          ],
          [
           "LA CARBONERA",
           25668
          ],
          [
           "LA CANDELARIA TICOMAN (BARR)",
           13380
          ],
          [
           "LA ASUNCION (BARR)",
           32565
          ],
          [
           "JUVENTUD UNIDA",
           34014
          ],
          [
           "JUSTO SIERRA",
           25521
          ],
          [
           "JUAREZ",
           56951.810810811
          ],
          [
           "JUAN ESCUTIA III",
           12454
          ],
          [
           "JOYAS DEL PEDREGAL (FRACC)",
           44375
          ],
          [
           "JOSEFA ORTIZ DE DOMINGUEZ",
           23823.8
          ],
          [
           "JOSE MARIA PINO SUAREZ",
           19611
          ],
          [
           "JOSE LOPEZ PORTILLO I",
           26667
          ],
          [
           "JORGE NEGRETE",
           11278.5
          ],
          [
           "JARDINES EN LA MONTAA",
           53320.85106383
          ],
          [
           "JARDINES DEL PEDREGAL",
           36949.071969697
          ],
          [
           "JARDINES DE SAN JUAN",
           3750
          ],
          [
           "JARDINES DE LA PALMA (HUIZACHITO)",
           47510.428571429
          ],
          [
           "JARDINES DE COYOACAN (FRACC)",
           28448.2
          ],
          [
           "JARDINES COAPA-BELISARIO DOMINGUEZ",
           30714.333333333
          ],
          [
           "JARDIN BALBUENA III",
           31415.090909091
          ],
          [
           "JARDIN BALBUENA II",
           39133.5
          ],
          [
           "JARDIN AZPEITIA",
           37974.5
          ],
          [
           "JAMAICA",
           33771
          ],
          [
           "JAIME TORRES BODET",
           3811
          ],
          [
           "IZTACCIHUATL",
           17288
          ],
          [
           "IXTLAHUACAN",
           7477
          ],
          [
           "ISSSFAM No. 1 (U HAB)-VILLA TLALPAN",
           26444.5
          ],
          [
           "ISIDRO FABELA I (PONIENTE)",
           28638.5
          ],
          [
           "IRRIGACION",
           55295.666666667
          ],
          [
           "INSURGENTES MIXCOAC",
           52407.90625
          ],
          [
           "INSURGENTES CUICUILCO",
           34532.931034483
          ],
          [
           "INFONAVIT IZTACALCO (U HAB) I",
           19923
          ],
          [
           "INFONAVIT CULHUACAN ZONA 3 (U HAB)",
           49861
          ],
          [
           "INFONAVIT (U HAB)",
           13056
          ],
          [
           "INDUSTRIAL II",
           35211.25
          ],
          [
           "INDUSTRIAL I",
           28453.2
          ],
          [
           "INDEPENDENCIA SAN RAMON (U HAB)",
           34963.75
          ],
          [
           "INDEPENDENCIA BATAN NORTE (U HAB)",
           24182
          ],
          [
           "INDEPENDENCIA",
           38281.62962963
          ],
          [
           "IGNACIO ZARAGOZA I",
           19172
          ],
          [
           "HIPODROMO II",
           60652.394230769
          ],
          [
           "HIPODROMO CONDESA",
           64430.721311475
          ],
          [
           "HERON PROAL",
           25136.6
          ],
          [
           "HEROES DE PADIERNA II",
           24624.681818182
          ],
          [
           "HEROES DE CHURUBUSCO",
           29355
          ],
          [
           "HACIENDAS DE COYOACAN (FRACC)",
           30369
          ],
          [
           "HACIENDA SAN JUAN-RINCON DE SAN JUAN-CHIMALI",
           30987.714285714
          ],
          [
           "GUERRERO IV",
           39392
          ],
          [
           "GUERRERO III",
           24546
          ],
          [
           "GUERRERO II",
           27253.8
          ],
          [
           "GUERRERO I",
           32566
          ],
          [
           "GUADALUPE TEPEYAC",
           34725
          ],
          [
           "GUADALUPE PROLETARIA (AMPL)",
           23111
          ],
          [
           "GUADALUPE PROLETARIA",
           19254
          ],
          [
           "GUADALUPE INN",
           51035.815789474
          ],
          [
           "GUADALUPE DEL MORAL",
           21831
          ],
          [
           "GRANJAS SAN ANTONIO",
           23405.5
          ],
          [
           "GRANJAS MODERNAS-SAN JUAN DE ARAGON (AMPL)",
           25579
          ],
          [
           "GRANJAS MEXICO I",
           29231.071428571
          ],
          [
           "GRANJAS COAPA ORIENTE",
           27879
          ],
          [
           "GRANJAS COAPA",
           34671.5
          ],
          [
           "GOLONDRINAS 2DA SECCION",
           28666.666666667
          ],
          [
           "GERTRUDIS SANCHEZ 2A SECCION",
           17277
          ],
          [
           "GARCIMARRERO NORTE",
           59375
          ],
          [
           "GABRIEL RAMOS MILLAN",
           25105
          ],
          [
           "FUERTE DE LORETO - LA ANTENA (U HAB)",
           19792
          ],
          [
           "FUENTES Y PEDREGAL DE TEPEPAN",
           23706.454545455
          ],
          [
           "FUENTES DEL PEDREGAL",
           43232.032786885
          ],
          [
           "FUENTES BROTANTES MIGUEL HIDALGO (U HAB)",
           30000
          ],
          [
           "FRANCISCO VILLA",
           11207
          ],
          [
           "FOVISSTE ARAGON (U HAB)",
           17308
          ],
          [
           "FOVISSSTE SAN PEDRO MARTIR ( U HAB)",
           7342
          ],
          [
           "FLORIDA",
           60691.466666667
          ],
          [
           "FLORESTA-PRADO-VERGEL COAPA",
           33018.857142857
          ],
          [
           "FELIPE PESCADOR",
           24868.666666667
          ],
          [
           "EXTREMADURA INSURGENTES",
           51295.416666667
          ],
          [
           "EX-HACIENDA EL ROSARIO",
           16901
          ],
          [
           "EX-ESCUELA DE TIRO",
           4564
          ],
          [
           "EX HIPODROMO DE PERALVILLO",
           24080.75
          ],
          [
           "EX HACIENDA SAN JUAN DE DIOS",
           35258
          ],
          [
           "EX HACIENDA COAPA",
           30711
          ],
          [
           "ESTRELLA",
           25438
          ],
          [
           "ESPERANZA",
           44248
          ],
          [
           "ESPARTACO",
           35591
          ],
          [
           "ESCUADRON 201",
           21863
          ],
          [
           "ESCANDON II",
           36083.115384615
          ],
          [
           "ESCANDON I",
           45152.084210526
          ],
          [
           "ERMITA ZARAGOZA (U HAB) II",
           12471
          ],
          [
           "EMILIO CARRANZA",
           17500
          ],
          [
           "EMILIANO ZAPATA",
           23651
          ],
          [
           "EL YAQUI",
           44788.8125
          ],
          [
           "EL VERGEL",
           11190
          ],
          [
           "EL TRIUNFO",
           22044
          ],
          [
           "EL TORO",
           41229.25
          ],
          [
           "EL SIFON",
           18153.333333333
          ],
          [
           "EL ROSEDAL I",
           29261.5
          ],
          [
           "EL ROSARIO B (U HAB)",
           13559
          ],
          [
           "EL ROSARIO A (U HAB)",
           20000
          ],
          [
           "EL RODEO",
           24060
          ],
          [
           "EL RETOO",
           33927
          ],
          [
           "EL RELOJ",
           23162.75
          ],
          [
           "EL PRADO",
           38687
          ],
          [
           "EL PARQUE DE COYOACAN (FRACC)",
           43045.5
          ],
          [
           "EL PARQUE",
           14000
          ],
          [
           "EL MOLINO",
           48349.391304348
          ],
          [
           "EL MOLINITO",
           54353.8
          ],
          [
           "EL MIRADOR",
           28408.4
          ],
          [
           "EL JAGUEY-ESTACION PANTACO",
           27560
          ],
          [
           "EL CENTINELA",
           23529.75
          ],
          [
           "EL CARMEN",
           5145
          ],
          [
           "EL CARACOL",
           19221.75
          ],
          [
           "EL ARENAL 2A SECCION",
           24898
          ],
          [
           "EJTO DE OTE II (U HAB)",
           12766
          ],
          [
           "EJIDOS DE SAN PEDRO MARTIR I (NORTE)",
           26867.5
          ],
          [
           "EDUCACION",
           26262.3125
          ],
          [
           "DR ALFONSO ORTIZ TIRADO",
           6400
          ],
          [
           "DOCTORES V",
           30119.454545455
          ],
          [
           "DOCTORES IV",
           29742.2
          ],
          [
           "DOCTORES III",
           32007.347826087
          ],
          [
           "DOCTORES II",
           31828.25
          ],
          [
           "DOCTORES I",
           37666.5
          ],
          [
           "DM NACIONAL",
           18333
          ],
          [
           "DESARROLLO URBANO",
           61132.5
          ],
          [
           "DEL VALLE VII",
           41310.653846154
          ],
          [
           "DEL VALLE V",
           47142.02173913
          ],
          [
           "DEL VALLE III",
           45351.157894737
          ],
          [
           "DEL VALLE II",
           42209.954545455
          ],
          [
           "DEL RECREO",
           21282
          ],
          [
           "DEL NIO JESUS (BARR)",
           55807.5
          ],
          [
           "DEL GAS (AMPL)",
           35094
          ],
          [
           "DEL CARMEN",
           64041.244444444
          ],
          [
           "DEL BOSQUE (POLANCO)",
           57257.846153846
          ],
          [
           "DE TARANGO (RCNDA)",
           27805
          ],
          [
           "DE LA CANDELARIA (PBLO)",
           31006.5
          ],
          [
           "DANIEL GARZA (AMPL)",
           56339.166666667
          ],
          [
           "DANIEL GARZA",
           7800
          ],
          [
           "CUITLHUAC 1 Y 2 (U HAB)",
           24286
          ],
          [
           "CUCHILLA PANTITLAN",
           21491
          ],
          [
           "CUADRANTE DE SAN FRANCISCO",
           43528
          ],
          [
           "CTM X CULHUACAN (U HAB)",
           25025.5
          ],
          [
           "CTM VIII CULHUACAN (U HAB)",
           29467
          ],
          [
           "CTM VI CULHUACAN (U HAB)",
           13434.75
          ],
          [
           "CTM V CULHUACAN (U HAB)",
           26276.4
          ],
          [
           "CTM IXA CULHUACAN (U HAB)",
           17300.5
          ],
          [
           "CRUZ DEL FAROL",
           17708
          ],
          [
           "CREDITO CONSTRUCTOR",
           55257
          ],
          [
           "COVE",
           44048
          ],
          [
           "COUNTRY CLUB",
           30962.5
          ],
          [
           "COSMOPOLITA (AMPL)",
           37097
          ],
          [
           "CORREDOR SANTA FE",
           60511.962406015
          ],
          [
           "CORPUS CHRISTY",
           33463
          ],
          [
           "COPILCO UNIVERSIDAD",
           34465.666666667
          ],
          [
           "COPILCO EL ALTO",
           26964
          ],
          [
           "CONSTITUCION DE 1917 I",
           19361.5
          ],
          [
           "CONJUNTO URBANO CUEMANCO (U HAB)",
           26984
          ],
          [
           "CONJUNTO HABITACIONAL PEDREGAL DEL LAGO",
           36045.666666667
          ],
          [
           "CONDOMINIO DEL BOSQUE (FRACC)-BOSQUE DE TLALPAN",
           56919.333333333
          ],
          [
           "CONDESA",
           63308.575
          ],
          [
           "COLINAS DEL BOSQUE-LAS TORTOLAS",
           28109.625
          ],
          [
           "COLINAS DE TARANGO",
           31468
          ],
          [
           "COCOYOTES",
           4056
          ],
          [
           "COAPA 2A SECCION-RAMOS MILLAN",
           38104.333333333
          ],
          [
           "CLAVERIA",
           20705.666666667
          ],
          [
           "CIUDAD UNIVERSITARIA",
           60109
          ],
          [
           "CIUDAD JARDIN",
           33029.8
          ],
          [
           "CIUDAD DE LOS DEPORTES",
           48080.078947368
          ],
          [
           "CHURUBUSCO TEPEYAC",
           11960
          ],
          [
           "CHIMILLI",
           39027.5
          ],
          [
           "CERRO DE LA ESTRELLA II",
           21538
          ],
          [
           "CERRO DE LA ESTRELLA I",
           13573.333333333
          ],
          [
           "CENTRO VIII",
           60528.222222222
          ],
          [
           "CENTRO VI",
           49283.5
          ],
          [
           "CENTRO IV",
           53104.078571429
          ],
          [
           "CENTRO DE AZCAPOTZALCO",
           17928.285714286
          ],
          [
           "CASTILLO CHICO",
           25683
          ],
          [
           "CASAS ALEMAN (AMPL) II",
           16176
          ],
          [
           "CASAS ALEMAN (AMPL) I",
           13529
          ],
          [
           "CASA BLANCA",
           18462
          ],
          [
           "CAROLA",
           33470.4
          ],
          [
           "CAPULTITLAN",
           84
          ],
          [
           "CANTERA PUENTE DE PIEDRA",
           31680
          ],
          [
           "CAMPESTRE COYOACAN (FRACC)",
           23639
          ],
          [
           "CAMPESTRE ARAGON I",
           20100.7
          ],
          [
           "CALVARIO CAMISETAS",
           43836
          ],
          [
           "CAFETALES I (RDCIAL)",
           26547.666666667
          ],
          [
           "CACAMA",
           24603.666666667
          ],
          [
           "BUENAVISTA II",
           22636
          ],
          [
           "BUENAVISTA I",
           19801.571428571
          ],
          [
           "BOSQUES DE TARANGO",
           37597.935483871
          ],
          [
           "BOSQUES DE LAS LOMAS",
           47301.585294118
          ],
          [
           "BONDOJITO",
           29691.6
          ],
          [
           "BEJERO",
           52431.75
          ],
          [
           "BARRANCA SECA",
           20196
          ],
          [
           "BANJIDAL",
           24699
          ],
          [
           "AVIACION CIVIL (AMPL)",
           23574
          ],
          [
           "AVANTE",
           27267.5
          ],
          [
           "ATLANTIDA",
           26241.5
          ],
          [
           "ATLAMPA",
           28456.19047619
          ],
          [
           "ATLAMAYA",
           53593.777777778
          ],
          [
           "ATENOR SALAS",
           40721.466666667
          ],
          [
           "ASTURIAS (AMPL)",
           32378
          ],
          [
           "ASTURIAS",
           37556.294117647
          ],
          [
           "ARVIDE",
           14545
          ],
          [
           "ARTURO MARTINEZ",
           26423
          ],
          [
           "ARTES GRAFICAS",
           10117
          ],
          [
           "ARGENTINA ANTIGUA",
           38726.818181818
          ],
          [
           "ARENAL GUADALUPE TLALPAN",
           40192.833333333
          ],
          [
           "ARENAL",
           37123
          ],
          [
           "ARCOS DE CENTENARIO",
           5487
          ],
          [
           "ARBOLEDAS DEL SUR",
           25089
          ],
          [
           "ARAGON LA VILLA (ARAGON)",
           18750
          ],
          [
           "AQUILES SERDAN",
           29803.25
          ],
          [
           "ANGEL ZIMBRON",
           32496
          ],
          [
           "ANAHUAC LOS MANZANOS",
           39973.777777778
          ],
          [
           "ANAHUAC LAGO SUR",
           35661.75
          ],
          [
           "ANAHUAC II",
           52915.129032258
          ],
          [
           "ANAHUAC I",
           35334.888888889
          ],
          [
           "AMPLIACION SAN FRANCISCO CULHUACAN (EJ)",
           30664
          ],
          [
           "AMPLIACION PETROLERA",
           19103
          ],
          [
           "AMPLIACION MIGUEL HIDALGO 4A SECC",
           14872
          ],
          [
           "AMPLIACION CANDELARIA",
           40890
          ],
          [
           "ALPES (AMPL)",
           48496.882352941
          ],
          [
           "ALPES",
           55592.608695652
          ],
          [
           "ALIANZA POPULAR REVOLUCIONARIA PONIENTE (U HAB)",
           16963.25
          ],
          [
           "ALIANZA POPULAR REVOLUCIONARIA ORIENTE (U HAB)",
           16363.5
          ],
          [
           "ALFONSO XIII",
           32108.142857143
          ],
          [
           "ALCANTARILLA",
           34814.533333333
          ],
          [
           "ALBERT",
           37187.4
          ],
          [
           "ALAMOS II",
           33186.5625
          ],
          [
           "ALAMOS I",
           36059.357142857
          ],
          [
           "AJUSCO III",
           31675
          ],
          [
           "AJUSCO II",
           25002.25
          ],
          [
           "AHUEHUETES ANAHUAC",
           60656
          ],
          [
           "AHUATENCO",
           23054.833333333
          ],
          [
           "AGUILERA",
           34803.2
          ],
          [
           "AGUILAS PILARES",
           15718.5
          ],
          [
           "AGRICULTURA",
           299
          ],
          [
           "AGRICOLA ORIENTAL VI",
           17876
          ],
          [
           "AGRICOLA ORIENTAL V",
           21159.842105263
          ],
          [
           "AGRICOLA ORIENTAL IV",
           23192
          ],
          [
           "AGRICOLA ORIENTAL III",
           25150
          ],
          [
           "AERONAUTICA MILITAR",
           30860.5
          ],
          [
           "ADOLFO RUIZ CORTINES II",
           23294.25
          ],
          [
           "ADOLFO LOPEZ MATEOS",
           37153
          ],
          [
           "ACULCO (PBLO)",
           20986.333333333
          ],
          [
           "ACUEDUCTO DE GUADALUPE (RDCIAL)",
           29203.75
          ],
          [
           "ACUEDUCTO",
           36152
          ],
          [
           "ACACIAS",
           44353.631578947
          ],
          [
           "ABDIAS GARCIA SOTO",
           36037.25
          ],
          [
           "51 LEGISLATURA",
           42857
          ],
          [
           "25 DE JULIO",
           32857
          ],
          [
           "20 DE NOVIEMBRE",
           15018.2
          ],
          [
           "19 DE MAYO",
           27151
          ],
          [
           "15 DE AGOSTO",
           19231
          ],
          [
           "10 DE MAYO",
           17857
          ],
          [
           "7 DE NOVIEMBRE",
           17757.5
          ],
          [
           "7 DE JULIO (AMPL)",
           23417
          ],
          [
           "1RA VICTORIA SECCION BOSQUES",
           31250
          ]
         ],
         "hovertemplate": "Latitude (generated)=%{lat}<br>Longitude (generated)=%{lon}<br>Colonia=%{customdata[0]}<br>Avg. costo_m2_terreno=%{marker.color}<extra></extra>",
         "lat": [
          19.389578629,
          19.374028401,
          19.32791621,
          19.361135775,
          19.410147722,
          19.337333529,
          19.306178096,
          19.305237516,
          19.297644734,
          19.483737869,
          19.295995306,
          19.387526139,
          19.468086769,
          19.347275689,
          19.290098213,
          19.28388741,
          19.304301386,
          19.401198011,
          19.407300627,
          19.435762803,
          19.302851386,
          19.453051873,
          19.495441361,
          19.467864606,
          19.465373154,
          19.457491834,
          19.277971118,
          19.487225609,
          19.347949491,
          19.272133817,
          19.387341826,
          19.303706697,
          19.306785097,
          19.448486963,
          19.473895423,
          19.4724773,
          19.47857504,
          19.458485868,
          19.391628255,
          19.511128544,
          19.329655783,
          19.281296732,
          19.371393107,
          19.458193552,
          19.296465108,
          19.39608315,
          19.460874131,
          19.287793024,
          19.276078256,
          19.32208927,
          19.376453174,
          19.354639483,
          19.474256613,
          19.337030852,
          19.341945066,
          19.415400391,
          19.489894304,
          19.34321252,
          19.341584059,
          19.242834189,
          19.483475114,
          19.351423091,
          19.262756602,
          19.392620521,
          19.29699775,
          19.338662056,
          19.401314303,
          19.45739273,
          19.464561971,
          19.434679904,
          19.378838512,
          19.353071118,
          19.367285383,
          19.373269452,
          19.272565465,
          19.474227418,
          19.365184255,
          19.361030575,
          19.514155625,
          19.366733116,
          19.21584938,
          19.468871439,
          19.487504882,
          19.254809701,
          19.242479826,
          19.49671034,
          19.524069991,
          19.353598457,
          19.280177812,
          19.303273647,
          19.310581488,
          19.326474743,
          19.523521807,
          19.360732652,
          19.370332212,
          19.478414254,
          19.444053279,
          19.449667199,
          19.453137324,
          19.359318307,
          19.456562469,
          19.477590455,
          19.356832524,
          19.497297532,
          19.361805127,
          19.38030247,
          19.388525779,
          19.254453204,
          19.350669079,
          19.475961323,
          19.211724529,
          19.288409533,
          19.308274227,
          19.347845998,
          19.497947015,
          19.359594655,
          19.476393031,
          19.401670068,
          19.3746699,
          19.361508057,
          19.438686878,
          19.437583927,
          19.506238589,
          19.483634498,
          19.475919938,
          19.4803471,
          19.269102592,
          19.265256649,
          19.393952095,
          19.471137376,
          19.391349348,
          19.359428749,
          19.505318488,
          19.323480514,
          19.352704869,
          19.359059453,
          19.299417464,
          19.212137221,
          19.471606325,
          19.234614353,
          19.415580925,
          19.227781434,
          19.358534186,
          19.391588577,
          19.504047315,
          19.400480568,
          19.286133965,
          19.25134695,
          19.239841911,
          19.354062713,
          19.334172542,
          19.295685375,
          19.239127211,
          19.332424192,
          19.520960507,
          19.333377876,
          19.336851415,
          19.489442909,
          19.275666051,
          19.480743031,
          19.471110558,
          19.457951885,
          19.452138293,
          19.456286061,
          19.272954021,
          19.365771935,
          19.366622857,
          19.453750176,
          19.32464984,
          19.251879592,
          19.200127029,
          19.47960735,
          19.335536358,
          19.312324597,
          19.312470755,
          19.493981183,
          19.498574007,
          19.497408095,
          19.395944549,
          19.262910562,
          19.464216933,
          19.35509228,
          19.315123176,
          19.467980167,
          19.284430475,
          19.494073217,
          19.328824121,
          19.480242083,
          19.349585815,
          19.345168527,
          19.247231851,
          19.37166403,
          19.489845361,
          19.492543617,
          19.461476439,
          19.441565362,
          19.341471058,
          19.340563756,
          19.403934665,
          19.408926894,
          19.414581345,
          19.421948186,
          19.419086402,
          19.331319047,
          19.493810157,
          19.334677147,
          19.278940162,
          19.431170466,
          19.449290771,
          19.377533756,
          19.386183655,
          19.39018947,
          19.382284502,
          19.328248692,
          19.39339684,
          19.30414127,
          19.409272359,
          19.491326872,
          19.33952657,
          19.517337884,
          19.352853709,
          19.395549228,
          19.476318307,
          19.475430448,
          19.361765022,
          19.325238494,
          19.332494833,
          19.375282203,
          19.377806385,
          19.328365411,
          19.503418494,
          19.320214876,
          19.291881548,
          19.298466583,
          19.354493507,
          19.365994829,
          19.359787257,
          19.362824028,
          19.367054871,
          19.370940797,
          19.452766627,
          19.456197927,
          19.444861842,
          19.445741167,
          19.353695367,
          19.303368302,
          19.495332627,
          19.402712069,
          19.486174344,
          19.382179241,
          19.433833126,
          19.451709023,
          19.450483928,
          19.442073014,
          19.506422292,
          19.324678669,
          19.331176668,
          19.333534883,
          19.273648424,
          19.278694046,
          19.27728732,
          19.283228663,
          19.294179728,
          19.313524884,
          19.30811917,
          19.307462861,
          19.307471333,
          19.49402397,
          19.274616614,
          19.348368583,
          19.382436145,
          19.299534,
          19.345122632,
          19.386733545,
          19.405732506,
          19.40732202,
          19.411215931,
          19.417002278,
          19.417133443,
          19.382751562,
          19.430333013,
          19.376428855,
          19.342056848,
          19.336239782,
          19.304035948,
          19.289654192,
          19.209932173,
          19.340678342,
          19.393310352,
          19.405233265,
          19.420070378,
          19.489293398,
          19.490936793,
          19.461732429,
          19.297492908,
          19.325271468,
          19.498411515,
          19.461617355,
          19.455135752,
          19.381885889,
          19.386534422,
          19.286348327,
          19.455959552,
          19.474355291,
          19.373847441,
          19.386218274,
          19.392817084,
          19.391829207,
          19.400185814,
          19.290584533,
          19.292815607,
          19.291891483,
          19.294646788,
          19.3932608,
          19.388895685,
          19.447324342,
          19.435734644,
          19.343538237,
          19.371208855,
          19.395006712,
          19.446966383,
          19.363982809,
          19.426589344,
          19.432516119,
          19.431650508,
          19.436643164,
          19.429446313,
          19.324910218,
          19.372741503,
          19.34288595,
          19.271646644,
          19.269803273,
          19.353542322,
          19.381050021,
          19.441127193,
          19.290678822,
          19.493208154,
          19.364639423,
          19.420003211,
          19.486861738,
          19.376170915,
          19.48260036,
          19.376026524,
          19.248715374,
          19.315159563,
          19.338061638,
          19.485853321,
          19.396132702,
          19.313911551,
          19.436976987,
          19.305610774,
          19.304444374,
          19.325676847,
          19.314467659,
          19.343526291,
          19.415681005,
          19.315246843,
          19.274409263,
          19.317550265,
          19.31703286,
          19.351038131,
          19.273343857,
          19.380198611,
          19.345148352,
          19.23913934,
          19.362992433,
          19.366814179,
          19.386576355,
          19.320013009,
          19.312131934,
          19.34455598,
          19.400717908,
          19.368038664,
          19.296339612,
          19.294362456,
          19.356898228,
          19.3255558,
          19.343575782,
          19.345017493,
          19.343151631,
          19.423994338,
          19.394130252,
          19.419753255,
          19.342881257,
          19.400205136,
          19.495305321,
          19.498892898,
          19.488801471,
          19.393577801,
          19.380771967,
          19.36142419,
          19.376585557,
          19.455323295,
          19.354325103,
          19.386972774,
          19.308553804,
          19.362293885,
          19.352144069,
          19.360264739,
          19.465688875,
          19.511555925,
          19.486811454,
          19.476007949,
          19.322128888,
          19.525917934,
          19.336551236,
          19.265819461,
          19.26328449,
          19.297286958,
          19.235690364,
          19.301981325,
          19.291073534,
          19.371965305,
          19.513442022,
          19.394275251,
          19.371476669,
          19.290525838,
          19.312526463,
          19.330503475,
          19.253898072,
          19.346662959,
          19.369371335,
          19.298240703,
          19.521497598,
          19.298511565,
          19.268718485,
          19.362733395,
          19.426410882,
          19.386401307,
          19.305604862,
          19.387723861,
          19.396908656,
          19.303457411,
          19.526510794,
          19.299247901,
          19.316121536,
          19.213556929,
          19.370479772,
          19.314323329,
          19.304678117,
          19.413901448,
          19.417406681,
          19.473531613,
          19.406764511,
          19.231616407,
          19.390170941,
          19.344062041,
          19.278192549,
          19.300443252,
          19.444104111,
          19.372888332,
          19.307310181,
          19.385266723,
          19.32762688,
          19.461111532,
          19.475664192,
          19.473929433,
          19.332465516,
          19.334891873,
          19.379743985,
          19.41415817,
          19.406351819,
          19.409805122,
          19.357894089,
          19.28027972,
          19.361143454,
          19.302963168,
          19.288847397,
          19.440614238,
          19.442442798,
          19.447461724,
          19.448491595,
          19.467589844,
          19.521859884,
          19.521958197,
          19.358491033,
          19.369996865,
          19.363003099,
          19.476777869,
          19.401895339,
          19.296409095,
          19.294939957,
          19.37649913,
          19.466320621,
          19.368958521,
          19.392931122,
          19.365118673,
          19.269560997,
          19.302809818,
          19.281661395,
          19.329385835,
          19.453958077,
          19.274088361,
          19.357296048,
          19.303053496,
          19.45407504,
          19.377135936,
          19.497363906,
          19.454944126,
          19.45770778,
          19.287994646,
          19.309941452,
          19.474734156,
          19.420816467,
          19.317867083,
          19.364588774,
          19.399571865,
          19.403788324,
          19.366774013,
          19.449231772,
          19.408588256,
          19.361017471,
          19.316616877,
          19.377841614,
          19.312157898,
          19.372401098,
          19.340777873,
          19.511916993,
          19.511100507,
          19.372135478,
          19.370987668,
          19.319288436,
          19.358156174,
          19.311004359,
          19.422949472,
          19.321959325,
          19.361480873,
          19.33668813,
          19.485319521,
          19.335851531,
          19.334457666,
          19.303752897,
          19.423282868,
          19.381664519,
          19.272609775,
          19.336697577,
          19.38643934,
          19.411465643,
          19.412244645,
          19.41655777,
          19.419825725,
          19.423846351,
          19.475310316,
          19.3821086,
          19.368839059,
          19.375425192,
          19.386991303,
          19.392247872,
          19.472623092,
          19.340766659,
          19.466796823,
          19.353469853,
          19.433587071,
          19.362850054,
          19.331266935,
          19.408791341,
          19.405021159,
          19.472365823,
          19.421534579,
          19.34181189,
          19.307771329,
          19.316734327,
          19.323262984,
          19.331571441,
          19.310886543,
          19.269328655,
          19.364443469,
          19.401224341,
          19.351772518,
          19.472429698,
          19.357869831,
          19.360871252,
          19.336304328,
          19.330510789,
          19.350109315,
          19.29508069,
          19.309872457,
          19.290916101,
          19.414898102,
          19.279304216,
          19.363758818,
          19.548405915,
          19.29921767,
          19.465243635,
          19.322087381,
          19.334143834,
          19.383585479,
          19.487130649,
          19.269231196,
          19.32151055,
          19.325844581,
          19.430913013,
          19.424510523,
          19.435381682,
          19.480906682,
          19.540505457,
          19.478151316,
          19.477524446,
          19.331391029,
          19.385571473,
          19.479007846,
          19.299767256,
          19.309674126,
          19.487897278,
          19.288761824,
          19.313140839,
          19.359066096,
          19.346888474,
          19.355659724,
          19.348510658,
          19.398127717,
          19.465883915,
          19.381319237,
          19.306037972,
          19.362369646,
          19.411232388,
          19.32816836,
          19.341149729,
          19.458717051,
          19.350450452,
          19.403164683,
          19.407227731,
          19.404955577,
          19.381496663,
          19.386810952,
          19.411560482,
          19.455569167,
          19.286722316,
          19.465416063,
          19.359693942,
          19.292559495,
          19.479322409,
          19.44742686,
          19.466423017,
          19.446411129,
          19.445160131,
          19.441236171,
          19.446933836,
          19.335323887,
          19.482938754,
          19.273933304,
          19.328293368,
          19.357095949,
          19.36014034,
          19.314392324,
          19.313589004,
          19.375799729,
          19.339065606,
          19.370544988,
          19.394620899,
          19.401078,
          19.314174916,
          19.320241694,
          19.449243474,
          19.365697393,
          19.472942044,
          19.35565558,
          19.450810376,
          19.396108627,
          19.394973129,
          19.399866132,
          19.390840172,
          19.420346482,
          19.317705138,
          19.397020743,
          19.373596327,
          19.524106683,
          19.397700945,
          19.363372029,
          19.351798117,
          19.483444517,
          19.495767566,
          19.443988794,
          19.362045026,
          19.484954918,
          19.433402149,
          19.459520493,
          19.432517826,
          19.3874441
         ],
         "legendgroup": "",
         "lon": [
          -99.216275539,
          -99.135868321,
          -99.140440239,
          -99.167824637,
          -99.133091379,
          -99.255081718,
          -99.176061111,
          -99.177313512,
          -99.187555789,
          -99.112864337,
          -99.106278753,
          -99.136296921,
          -99.060242262,
          -99.163186648,
          -99.118846638,
          -99.054713307,
          -99.141777177,
          -99.130375509,
          -99.109081233,
          -99.174633236,
          -99.137333192,
          -99.195576745,
          -99.093922913,
          -99.141462553,
          -99.129044727,
          -99.120095016,
          -99.145276071,
          -99.140115985,
          -99.114711243,
          -99.145437772,
          -99.164973092,
          -99.043790888,
          -99.048240846,
          -99.169174922,
          -99.176158388,
          -99.110715241,
          -99.151216256,
          -99.211698013,
          -99.193038057,
          -99.142788093,
          -99.250997704,
          -99.228197172,
          -99.192949435,
          -99.193790789,
          -99.166480202,
          -99.111902608,
          -99.162446167,
          -99.172381927,
          -99.171326456,
          -99.268236734,
          -99.174780796,
          -99.195121997,
          -99.136937993,
          -99.201027136,
          -99.220781876,
          -99.171455609,
          -99.198820442,
          -99.22564928,
          -99.233499393,
          -99.105947003,
          -99.121869635,
          -99.268067903,
          -99.133353829,
          -99.057338117,
          -99.117196296,
          -99.123439585,
          -99.188454192,
          -99.187393723,
          -99.112625657,
          -99.153579286,
          -99.019409192,
          -99.103871473,
          -99.15978308,
          -99.007049512,
          -99.190724335,
          -99.178859325,
          -99.129998716,
          -99.132067785,
          -99.143700697,
          -99.117524572,
          -99.214804512,
          -99.174042814,
          -99.191511625,
          -99.01693828,
          -99.128888512,
          -99.097292777,
          -99.160535873,
          -99.003061006,
          -99.17906241,
          -99.172857825,
          -99.145147772,
          -99.287969411,
          -99.169087154,
          -99.006691065,
          -99.020709255,
          -99.181866658,
          -99.160362104,
          -99.159181442,
          -99.159226911,
          -99.028800181,
          -99.157244026,
          -99.197643437,
          -99.252738984,
          -99.11435237,
          -99.151516374,
          -99.248500279,
          -99.230736713,
          -99.134311597,
          -99.045089854,
          -99.194600936,
          -99.090936182,
          -99.042742975,
          -98.971899112,
          -99.173586542,
          -99.179074722,
          -99.103575683,
          -99.19150681,
          -99.120806485,
          -99.143923652,
          -99.016968206,
          -99.165125894,
          -99.159599011,
          -99.119799347,
          -99.208882125,
          -99.216847372,
          -99.216164306,
          -99.00757807,
          -99.171997272,
          -99.129386596,
          -99.0981309,
          -99.183686197,
          -99.298271846,
          -99.18619118,
          -99.143256981,
          -99.319190731,
          -99.088570591,
          -99.236862308,
          -98.973366483,
          -99.089668849,
          -99.161340473,
          -99.191147327,
          -99.199014385,
          -99.076481651,
          -99.117281138,
          -99.191230341,
          -99.155013927,
          -99.100453642,
          -99.035351511,
          -99.111353326,
          -99.122298052,
          -99.066814315,
          -99.149120491,
          -99.101407875,
          -99.324568591,
          -99.129695551,
          -99.082436586,
          -99.083744694,
          -99.203896599,
          -99.129345454,
          -99.094207611,
          -99.083386613,
          -99.071334548,
          -99.064351875,
          -99.093076379,
          -99.124281426,
          -99.185834074,
          -99.288628097,
          -99.207770702,
          -99.225709498,
          -99.054183042,
          -99.121855129,
          -99.190529721,
          -99.117522805,
          -99.236495267,
          -99.231708987,
          -99.071252387,
          -99.076077248,
          -99.069311374,
          -99.125213229,
          -99.09622731,
          -99.194326478,
          -99.148503494,
          -99.257454988,
          -99.173275698,
          -99.130330772,
          -99.143066147,
          -99.268230639,
          -99.204782142,
          -99.197805076,
          -99.194192754,
          -99.172527049,
          -99.131063878,
          -99.154230903,
          -99.180125317,
          -99.183176594,
          -99.097575889,
          -99.176801654,
          -99.170084113,
          -99.1616245,
          -99.161110997,
          -99.159909734,
          -99.159134755,
          -99.169948073,
          -99.25315448,
          -99.187680615,
          -99.223388584,
          -99.172290076,
          -99.217299072,
          -99.193076333,
          -99.128671713,
          -99.12947028,
          -99.082342601,
          -99.207549392,
          -99.143358219,
          -99.096730574,
          -99.253179226,
          -99.081377702,
          -99.211326158,
          -99.204183735,
          -99.15994606,
          -99.11194064,
          -99.088197517,
          -99.155711499,
          -99.151051081,
          -99.229534109,
          -99.123464879,
          -99.060933191,
          -99.227690616,
          -99.22503655,
          -99.238219603,
          -99.208999392,
          -99.134197377,
          -99.133237537,
          -99.132385517,
          -99.127739666,
          -99.14058463,
          -99.147167776,
          -99.147747288,
          -99.148264997,
          -99.148968177,
          -99.178960746,
          -99.177810132,
          -99.196943426,
          -99.199616692,
          -99.065102047,
          -99.232512003,
          -99.141485166,
          -99.157343923,
          -99.200104231,
          -99.145750079,
          -99.072084293,
          -99.189642838,
          -99.196981032,
          -99.088287052,
          -99.133830946,
          -99.164713506,
          -99.163627682,
          -99.161965698,
          -99.178193324,
          -99.23416777,
          -99.239615357,
          -99.239520275,
          -99.236700973,
          -99.157288214,
          -99.149645941,
          -99.19604734,
          -99.229119772,
          -99.196006747,
          -99.122996905,
          -99.124475551,
          -99.086542968,
          -99.193924452,
          -99.148629478,
          -99.192328782,
          -99.060579254,
          -99.06559623,
          -99.072402452,
          -99.059339166,
          -99.066185006,
          -99.255167109,
          -99.204499029,
          -99.21283918,
          -99.183049818,
          -99.234155032,
          -99.169444443,
          -99.01290973,
          -99.168103605,
          -99.238725731,
          -99.189196928,
          -99.192526199,
          -99.138626124,
          -99.18812555,
          -99.148575232,
          -99.167023144,
          -99.128480269,
          -99.147239453,
          -99.085901836,
          -99.205030574,
          -99.150049551,
          -99.18869915,
          -99.143668881,
          -99.160935948,
          -99.173359869,
          -99.188800266,
          -99.286729566,
          -99.15754329,
          -99.151206565,
          -99.15917425,
          -99.152630661,
          -99.122849528,
          -99.121713481,
          -99.128228668,
          -99.120475953,
          -99.177807694,
          -99.10062735,
          -99.127710471,
          -99.204996259,
          -99.173461778,
          -99.201335786,
          -99.134476406,
          -99.189783389,
          -99.125169162,
          -99.098263832,
          -99.103971614,
          -99.095031045,
          -99.092473706,
          -99.10578707,
          -99.048036237,
          -99.190355953,
          -99.037800054,
          -99.219410197,
          -99.184518713,
          -99.109876143,
          -99.198021509,
          -99.225651108,
          -99.043319806,
          -99.198470467,
          -99.201173842,
          -99.12278358,
          -99.107919527,
          -99.138504834,
          -99.137343615,
          -99.110523614,
          -99.18711957,
          -99.133232112,
          -99.145541813,
          -99.183895195,
          -99.116607946,
          -99.132140559,
          -99.209844098,
          -99.123125022,
          -99.120067101,
          -99.124732212,
          -99.113297509,
          -99.067864544,
          -99.124411554,
          -99.241045792,
          -99.21489551,
          -99.093310122,
          -99.089291751,
          -99.087187514,
          -99.218512099,
          -99.272097915,
          -99.217731878,
          -99.230643155,
          -99.215624289,
          -99.257819408,
          -99.241372484,
          -99.067547848,
          -99.263747037,
          -99.206077938,
          -99.236722001,
          -99.204597037,
          -99.216381836,
          -99.227803496,
          -99.287114222,
          -99.257009322,
          -99.213713202,
          -99.234174048,
          -99.244550599,
          -99.215265781,
          -99.242392726,
          -99.228049917,
          -99.251219623,
          -99.227673916,
          -99.149399886,
          -99.132624075,
          -99.130813252,
          -99.212784569,
          -99.069673173,
          -99.070953123,
          -99.156109198,
          -99.192723494,
          -99.283205134,
          -99.22641085,
          -99.052201863,
          -99.205069216,
          -99.215519516,
          -99.207083125,
          -99.147057395,
          -99.136333918,
          -99.194145944,
          -99.066388579,
          -99.048595331,
          -99.138006568,
          -99.19554176,
          -99.128455463,
          -99.123140076,
          -99.053190289,
          -99.181733665,
          -99.245687803,
          -99.180017435,
          -99.24794984,
          -99.129129874,
          -99.047250531,
          -99.150515148,
          -99.176468867,
          -99.042108364,
          -99.207055515,
          -99.118227691,
          -99.157759601,
          -99.202653647,
          -99.256720115,
          -99.137489712,
          -99.097124798,
          -99.152718978,
          -99.134886173,
          -99.16418123,
          -99.032040891,
          -99.156887346,
          -99.140714331,
          -99.198027726,
          -99.083248866,
          -99.143316956,
          -99.203976444,
          -99.202304708,
          -99.18677441,
          -99.281253516,
          -99.126775499,
          -99.133188228,
          -99.104051702,
          -99.114393511,
          -99.173543999,
          -99.123670036,
          -98.99939133,
          -99.135837419,
          -98.998838575,
          -99.162460003,
          -99.178255311,
          -99.210667715,
          -99.184065915,
          -99.1829601,
          -99.106447036,
          -99.119330886,
          -99.162040484,
          -99.128489229,
          -99.123855873,
          -99.218232643,
          -99.20985708,
          -99.147418402,
          -99.095524923,
          -99.173110584,
          -99.179078928,
          -99.229665944,
          -99.21955605,
          -99.11845729,
          -99.112720251,
          -99.142016101,
          -99.142169085,
          -99.145114676,
          -99.13891844,
          -99.142845996,
          -99.120709452,
          -99.15186263,
          -99.155317031,
          -99.187324423,
          -99.0743534,
          -99.106761782,
          -99.105183543,
          -99.103920233,
          -99.10768109,
          -99.114332378,
          -99.216745342,
          -99.099642276,
          -99.23858579,
          -99.101832331,
          -99.029614229,
          -99.149009928,
          -99.220114047,
          -99.186190022,
          -99.088366897,
          -99.061093489,
          -99.161030726,
          -99.179569636,
          -99.128951413,
          -99.127156314,
          -99.179920647,
          -99.209432686,
          -99.099164794,
          -99.135468123,
          -99.131892066,
          -99.134831684,
          -99.116029652,
          -99.128530187,
          -99.135677791,
          -99.114255338,
          -99.177724985,
          -99.177785081,
          -98.996997093,
          -99.120534831,
          -99.126062384,
          -99.283299667,
          -99.080591935,
          -99.120200703,
          -99.246092024,
          -99.116096332,
          -99.150709335,
          -99.20052893,
          -99.207598396,
          -99.112605178,
          -99.125225967,
          -99.141316517,
          -99.135336837,
          -99.130682453,
          -99.117636842,
          -99.144772442,
          -99.287067168,
          -99.156282905,
          -99.17091285,
          -99.139265063,
          -99.060103783,
          -99.162422092,
          -99.057184463,
          -99.036434104,
          -99.156869793,
          -99.134588737,
          -99.079562246,
          -99.145934209,
          -99.151866592,
          -99.145690775,
          -99.151067843,
          -99.147454667,
          -99.095534553,
          -99.221513154,
          -99.171180298,
          -99.169177421,
          -99.167345753,
          -99.166597104,
          -99.183804135,
          -99.15911647,
          -99.158558595,
          -99.16558186,
          -99.209322854,
          -99.222376998,
          -99.14953489,
          -99.193402355,
          -99.19909557,
          -99.166939582,
          -99.064159639,
          -99.163622501,
          -99.110093978,
          -99.103295618,
          -99.118480938,
          -99.114195728,
          -99.105795725,
          -99.210032921,
          -99.180259833,
          -99.196894971,
          -99.140772112,
          -99.161189013,
          -99.270579042,
          -99.247528553,
          -99.181286475,
          -99.175132051,
          -99.06454082,
          -99.105228159,
          -99.224545232,
          -99.199050162,
          -99.176034172,
          -99.149150174,
          -99.220884638,
          -99.130925765,
          -99.118015037,
          -99.181620176,
          -99.184258213,
          -99.144085535,
          -99.179696656,
          -99.137693711,
          -99.218959593,
          -99.077719119,
          -99.077540109,
          -99.147675428,
          -99.134706858,
          -99.136574975,
          -99.186781603,
          -99.135993329,
          -99.087078353,
          -99.081495335,
          -99.066640485,
          -99.197310772,
          -99.133060904,
          -99.163737331,
          -99.116819991,
          -99.079027715,
          -99.176367568,
          -99.109387812,
          -99.126359515,
          -99.05057011,
          -99.05506834,
          -99.253469835,
          -99.248571103,
          -99.111064363,
          -99.245740037,
          -99.23940636,
          -99.13728236,
          -99.07654638,
          -99.135017703,
          -99.145616538,
          -99.156777454,
          -99.203239437,
          -99.146763434,
          -99.131438659,
          -99.131140675,
          -99.203888554,
          -99.218792895,
          -99.125638964,
          -99.206365195,
          -99.146192515,
          -99.151039318,
          -99.227289261,
          -99.139258968,
          -99.113913347,
          -99.0906897,
          -99.189270617,
          -99.184758246,
          -99.187438948,
          -99.176920994,
          -99.175479405,
          -99.126197083,
          -99.195349645,
          -99.210690693,
          -99.149474549,
          -99.209646133,
          -99.19364841,
          -99.121699768,
          -99.117254503,
          -99.194577775,
          -99.246995058,
          -99.139863348,
          -99.142369367,
          -99.141246547,
          -99.164960536,
          -99.161042855,
          -99.189334553,
          -99.306313647,
          -99.155993881,
          -99.20318574,
          -99.165317459,
          -99.061998962,
          -99.069064405,
          -99.065956383,
          -99.077595329,
          -99.115715638,
          -99.154910861,
          -99.159624671,
          -99.104860996,
          -99.150095081,
          -99.205095485,
          -99.173680649,
          -99.292906176,
          -99.092905415,
          -99.080763326,
          -99.109031132,
          -99.253527677,
          -99.108504951,
          -99.117404196,
          -99.118747046,
          -99.109546525,
          -99.19772578
         ],
         "marker": {
          "color": [
           32988,
           40967.555555556,
           39393.166666667,
           47916.315789474,
           22941,
           34580.875,
           45832.35,
           47050,
           29137.5,
           30032.666666667,
           32143,
           24144,
           32508.5,
           41952.291666667,
           24376.5,
           11833,
           36633.375,
           39092.888888889,
           25667.5,
           42186.785714286,
           41144,
           13606,
           20412.5,
           33304.5,
           20324,
           19763.7,
           30927,
           16211,
           32977.5,
           31004.166666667,
           22073,
           12595.5,
           9564.75,
           34547,
           22000,
           12462,
           23773.5,
           18151,
           26154,
           65102,
           37462.578947368,
           23000,
           32600,
           30528,
           41623.857142857,
           15000,
           22813,
           33123.125,
           29738.5,
           28312,
           43962.220338983,
           53340.6,
           34104.666666667,
           44620.111111111,
           33061.666666667,
           30329.75,
           22946.5,
           24070.6,
           36705.031746032,
           3294,
           17582.5,
           33883,
           34636,
           15654,
           8594,
           34375,
           42662,
           32357.304347826,
           32000.75,
           61536.04,
           16176,
           0,
           45917.669902913,
           12206,
           21553.5,
           32452,
           36595.25,
           42247.5,
           31296,
           29922,
           1712.666666667,
           42969,
           32151.333333333,
           13333,
           14188.333333333,
           18916,
           5802,
           54225,
           34852.045454545,
           44517,
           35640.083333333,
           14309.75,
           15473,
           8355.333333333,
           15327.5,
           20324.25,
           36176.4,
           39242.872340426,
           38497.909090909,
           20570.25,
           33393,
           28448,
           31655.8,
           18352.666666667,
           26312,
           38171,
           42693,
           15000,
           17333,
           16393,
           23084,
           13434,
           10363.5,
           45600.833333333,
           16372.333333333,
           6912,
           24472.5,
           13666.5,
           36999.407407407,
           16160.25,
           42729.625,
           37846.272727273,
           36842,
           31194.5,
           11838,
           34614.5,
           6000,
           25842.833333333,
           25587.333333333,
           28125,
           41439.913043478,
           39619.980392157,
           19391.5,
           43763,
           42165.8,
           26438.75,
           21813,
           2590,
           26293.375,
           7196,
           51893.9375,
           27364.25,
           21384.428571429,
           14000,
           32292,
           27001.090909091,
           29165.5,
           15116,
           3864,
           49651.1,
           11321,
           26875.444444444,
           9681,
           18768.333333333,
           13056,
           14815.5,
           14839,
           30916.333333333,
           17455,
           20755.5,
           21584.538461538,
           25933,
           18263.5,
           21053,
           8390,
           52489.5,
           41330.3125,
           25657.5,
           38803.391608392,
           36522,
           3,
           28038,
           17817.5,
           36103.444444444,
           32876.25,
           24000,
           34770.5,
           13750,
           25843,
           23158,
           22568.5,
           44077.5,
           31875,
           29939,
           24195.333333333,
           46703.666666667,
           30285.035714286,
           31733.5,
           62662.222222222,
           61702.923076923,
           19196.710526316,
           20789,
           9535,
           30668,
           42978,
           21274.4,
           31751.285714286,
           46337.333333333,
           52659.743589744,
           56774.515151515,
           56766.824561404,
           52226.885245902,
           59135.666666667,
           20133,
           20312.5,
           39115.16,
           19348.5,
           61547.277777778,
           65116,
           29557.25,
           34442.666666667,
           21097,
           21124.5,
           29180,
           42903,
           14621.5,
           8169.833333333,
           26120.5,
           38680.19047619,
           15541,
           27778,
           18574,
           27166.666666667,
           25299.666666667,
           35246,
           17795.5,
           8583,
           29167,
           59814.103448276,
           39394,
           23014,
           32202.5,
           39712.333333333,
           37451.833333333,
           24102.888888889,
           37030.851851852,
           44250.5,
           37449.979591837,
           39487.375,
           41278.196969697,
           32155.133333333,
           24871,
           42308,
           44173,
           19629.666666667,
           7210,
           40476,
           47285.071428571,
           29793.5,
           35474.714285714,
           25180.5,
           29310,
           23165.833333333,
           28786.333333333,
           30000,
           35000,
           21865,
           35359,
           16077,
           22952,
           23864,
           29000,
           21390.4,
           30000,
           17592.5,
           49353.789473684,
           38850,
           29707,
           24208,
           29361.609756098,
           46244.25,
           47048.884615385,
           52237.75,
           29903.875,
           11072,
           16785.666666667,
           20059.578947368,
           14356,
           20209,
           47427.1,
           62016.5,
           47137,
           52008.666666667,
           39643.688311688,
           43247.2,
           22143,
           37500,
           33929,
           40685.777777778,
           50978,
           44358,
           25439,
           22198,
           22781.333333333,
           26699.866666667,
           16569,
           22500,
           29299.428571429,
           25000,
           44147.660714286,
           31947,
           42128.333333333,
           25556,
           33607.444444444,
           42216.4,
           43257.431818182,
           45631.5129683,
           41929.052631579,
           40555.054054054,
           26500,
           27308,
           23009.666666667,
           30307,
           51939.506329114,
           23919,
           23082,
           63277.125,
           29778.666666667,
           26099,
           22147.409090909,
           40822.5,
           28643,
           16750,
           31998,
           29284.5,
           28552.5,
           12802.25,
           15455,
           41043.044444444,
           36390.333333333,
           11484,
           16209,
           16120,
           25466.333333333,
           46892.333333333,
           22039,
           36994,
           36214.277777778,
           17714,
           15367.5,
           35995.666666667,
           26311,
           17508,
           3235,
           26559,
           30048.827586207,
           23532.333333333,
           36782.5,
           21460,
           57603,
           35526,
           10404,
           14726.4,
           7939,
           9453.5,
           25447.6,
           39580.333333333,
           20858.857142857,
           8397.666666667,
           22081.5,
           10600,
           59553.75,
           43202.219512195,
           44170.615384615,
           1825.5,
           25056.166666667,
           59739.020408163,
           55042.384615385,
           5271,
           10504,
           47703.714285714,
           59347.454545455,
           21885.25,
           36860.125,
           25348.75,
           39374.588235294,
           33333,
           51282,
           33301.75,
           31679,
           62445.243243243,
           44945.75,
           57329.0625,
           35092.416666667,
           49197.272727273,
           23968.5,
           22762.5,
           40373,
           52841,
           21172.333333333,
           16417,
           43627.466666667,
           29443.833333333,
           53335.214285714,
           27056,
           19000,
           33864,
           34737.052631579,
           44186.275362319,
           14381,
           26926,
           25228.75,
           27143,
           10563,
           13485,
           46905.933333333,
           9777,
           16162.666666667,
           9906,
           13111,
           31588,
           35495,
           56739.548387097,
           20912.333333333,
           11701,
           28377.75,
           35714,
           20522,
           54849.333333333,
           27146.25,
           35255.75,
           36836.666666667,
           25668,
           13380,
           32565,
           34014,
           25521,
           56951.810810811,
           12454,
           44375,
           23823.8,
           19611,
           26667,
           11278.5,
           53320.85106383,
           36949.071969697,
           3750,
           47510.428571429,
           28448.2,
           30714.333333333,
           31415.090909091,
           39133.5,
           37974.5,
           33771,
           3811,
           17288,
           7477,
           26444.5,
           28638.5,
           55295.666666667,
           52407.90625,
           34532.931034483,
           19923,
           49861,
           13056,
           35211.25,
           28453.2,
           34963.75,
           24182,
           38281.62962963,
           19172,
           60652.394230769,
           64430.721311475,
           25136.6,
           24624.681818182,
           29355,
           30369,
           30987.714285714,
           39392,
           24546,
           27253.8,
           32566,
           34725,
           23111,
           19254,
           51035.815789474,
           21831,
           23405.5,
           25579,
           29231.071428571,
           27879,
           34671.5,
           28666.666666667,
           17277,
           59375,
           25105,
           19792,
           23706.454545455,
           43232.032786885,
           30000,
           11207,
           17308,
           7342,
           60691.466666667,
           33018.857142857,
           24868.666666667,
           51295.416666667,
           16901,
           4564,
           24080.75,
           35258,
           30711,
           25438,
           44248,
           35591,
           21863,
           36083.115384615,
           45152.084210526,
           12471,
           17500,
           23651,
           44788.8125,
           11190,
           22044,
           41229.25,
           18153.333333333,
           29261.5,
           13559,
           20000,
           24060,
           33927,
           23162.75,
           38687,
           43045.5,
           14000,
           48349.391304348,
           54353.8,
           28408.4,
           27560,
           23529.75,
           5145,
           19221.75,
           24898,
           12766,
           26867.5,
           26262.3125,
           6400,
           30119.454545455,
           29742.2,
           32007.347826087,
           31828.25,
           37666.5,
           18333,
           61132.5,
           41310.653846154,
           47142.02173913,
           45351.157894737,
           42209.954545455,
           21282,
           55807.5,
           35094,
           64041.244444444,
           57257.846153846,
           27805,
           31006.5,
           56339.166666667,
           7800,
           24286,
           21491,
           43528,
           25025.5,
           29467,
           13434.75,
           26276.4,
           17300.5,
           17708,
           55257,
           44048,
           30962.5,
           37097,
           60511.962406015,
           33463,
           34465.666666667,
           26964,
           19361.5,
           26984,
           36045.666666667,
           56919.333333333,
           63308.575,
           28109.625,
           31468,
           4056,
           38104.333333333,
           20705.666666667,
           60109,
           33029.8,
           48080.078947368,
           11960,
           39027.5,
           21538,
           13573.333333333,
           60528.222222222,
           49283.5,
           53104.078571429,
           17928.285714286,
           25683,
           16176,
           13529,
           18462,
           33470.4,
           84,
           31680,
           23639,
           20100.7,
           43836,
           26547.666666667,
           24603.666666667,
           22636,
           19801.571428571,
           37597.935483871,
           47301.585294118,
           29691.6,
           52431.75,
           20196,
           24699,
           23574,
           27267.5,
           26241.5,
           28456.19047619,
           53593.777777778,
           40721.466666667,
           32378,
           37556.294117647,
           14545,
           26423,
           10117,
           38726.818181818,
           40192.833333333,
           37123,
           5487,
           25089,
           18750,
           29803.25,
           32496,
           39973.777777778,
           35661.75,
           52915.129032258,
           35334.888888889,
           30664,
           19103,
           14872,
           40890,
           48496.882352941,
           55592.608695652,
           16963.25,
           16363.5,
           32108.142857143,
           34814.533333333,
           37187.4,
           33186.5625,
           36059.357142857,
           31675,
           25002.25,
           60656,
           23054.833333333,
           34803.2,
           15718.5,
           299,
           17876,
           21159.842105263,
           23192,
           25150,
           30860.5,
           23294.25,
           37153,
           20986.333333333,
           29203.75,
           36152,
           44353.631578947,
           36037.25,
           42857,
           32857,
           15018.2,
           27151,
           19231,
           17857,
           17757.5,
           23417,
           31250
          ],
          "coloraxis": "coloraxis"
         },
         "mode": "markers",
         "name": "",
         "showlegend": false,
         "subplot": "mapbox",
         "type": "scattermapbox"
        }
       ],
       "layout": {
        "coloraxis": {
         "colorbar": {
          "title": {
           "text": "Avg. costo_m2_terreno"
          }
         },
         "colorscale": [
          [
           0,
           "#0d0887"
          ],
          [
           0.1111111111111111,
           "#46039f"
          ],
          [
           0.2222222222222222,
           "#7201a8"
          ],
          [
           0.3333333333333333,
           "#9c179e"
          ],
          [
           0.4444444444444444,
           "#bd3786"
          ],
          [
           0.5555555555555556,
           "#d8576b"
          ],
          [
           0.6666666666666666,
           "#ed7953"
          ],
          [
           0.7777777777777778,
           "#fb9f3a"
          ],
          [
           0.8888888888888888,
           "#fdca26"
          ],
          [
           1,
           "#f0f921"
          ]
         ]
        },
        "height": 600,
        "legend": {
         "tracegroupgap": 0
        },
        "mapbox": {
         "center": {
          "lat": 19.37880276077467,
          "lon": -99.1535119565125
         },
         "domain": {
          "x": [
           0,
           1
          ],
          "y": [
           0,
           1
          ]
         },
         "style": "open-street-map",
         "zoom": 8
        },
        "margin": {
         "t": 60
        },
        "template": {
         "data": {
          "bar": [
           {
            "error_x": {
             "color": "#2a3f5f"
            },
            "error_y": {
             "color": "#2a3f5f"
            },
            "marker": {
             "line": {
              "color": "#E5ECF6",
              "width": 0.5
             },
             "pattern": {
              "fillmode": "overlay",
              "size": 10,
              "solidity": 0.2
             }
            },
            "type": "bar"
           }
          ],
          "barpolar": [
           {
            "marker": {
             "line": {
              "color": "#E5ECF6",
              "width": 0.5
             },
             "pattern": {
              "fillmode": "overlay",
              "size": 10,
              "solidity": 0.2
             }
            },
            "type": "barpolar"
           }
          ],
          "carpet": [
           {
            "aaxis": {
             "endlinecolor": "#2a3f5f",
             "gridcolor": "white",
             "linecolor": "white",
             "minorgridcolor": "white",
             "startlinecolor": "#2a3f5f"
            },
            "baxis": {
             "endlinecolor": "#2a3f5f",
             "gridcolor": "white",
             "linecolor": "white",
             "minorgridcolor": "white",
             "startlinecolor": "#2a3f5f"
            },
            "type": "carpet"
           }
          ],
          "choropleth": [
           {
            "colorbar": {
             "outlinewidth": 0,
             "ticks": ""
            },
            "type": "choropleth"
           }
          ],
          "contour": [
           {
            "colorbar": {
             "outlinewidth": 0,
             "ticks": ""
            },
            "colorscale": [
             [
              0,
              "#0d0887"
             ],
             [
              0.1111111111111111,
              "#46039f"
             ],
             [
              0.2222222222222222,
              "#7201a8"
             ],
             [
              0.3333333333333333,
              "#9c179e"
             ],
             [
              0.4444444444444444,
              "#bd3786"
             ],
             [
              0.5555555555555556,
              "#d8576b"
             ],
             [
              0.6666666666666666,
              "#ed7953"
             ],
             [
              0.7777777777777778,
              "#fb9f3a"
             ],
             [
              0.8888888888888888,
              "#fdca26"
             ],
             [
              1,
              "#f0f921"
             ]
            ],
            "type": "contour"
           }
          ],
          "contourcarpet": [
           {
            "colorbar": {
             "outlinewidth": 0,
             "ticks": ""
            },
            "type": "contourcarpet"
           }
          ],
          "heatmap": [
           {
            "colorbar": {
             "outlinewidth": 0,
             "ticks": ""
            },
            "colorscale": [
             [
              0,
              "#0d0887"
             ],
             [
              0.1111111111111111,
              "#46039f"
             ],
             [
              0.2222222222222222,
              "#7201a8"
             ],
             [
              0.3333333333333333,
              "#9c179e"
             ],
             [
              0.4444444444444444,
              "#bd3786"
             ],
             [
              0.5555555555555556,
              "#d8576b"
             ],
             [
              0.6666666666666666,
              "#ed7953"
             ],
             [
              0.7777777777777778,
              "#fb9f3a"
             ],
             [
              0.8888888888888888,
              "#fdca26"
             ],
             [
              1,
              "#f0f921"
             ]
            ],
            "type": "heatmap"
           }
          ],
          "heatmapgl": [
           {
            "colorbar": {
             "outlinewidth": 0,
             "ticks": ""
            },
            "colorscale": [
             [
              0,
              "#0d0887"
             ],
             [
              0.1111111111111111,
              "#46039f"
             ],
             [
              0.2222222222222222,
              "#7201a8"
             ],
             [
              0.3333333333333333,
              "#9c179e"
             ],
             [
              0.4444444444444444,
              "#bd3786"
             ],
             [
              0.5555555555555556,
              "#d8576b"
             ],
             [
              0.6666666666666666,
              "#ed7953"
             ],
             [
              0.7777777777777778,
              "#fb9f3a"
             ],
             [
              0.8888888888888888,
              "#fdca26"
             ],
             [
              1,
              "#f0f921"
             ]
            ],
            "type": "heatmapgl"
           }
          ],
          "histogram": [
           {
            "marker": {
             "pattern": {
              "fillmode": "overlay",
              "size": 10,
              "solidity": 0.2
             }
            },
            "type": "histogram"
           }
          ],
          "histogram2d": [
           {
            "colorbar": {
             "outlinewidth": 0,
             "ticks": ""
            },
            "colorscale": [
             [
              0,
              "#0d0887"
             ],
             [
              0.1111111111111111,
              "#46039f"
             ],
             [
              0.2222222222222222,
              "#7201a8"
             ],
             [
              0.3333333333333333,
              "#9c179e"
             ],
             [
              0.4444444444444444,
              "#bd3786"
             ],
             [
              0.5555555555555556,
              "#d8576b"
             ],
             [
              0.6666666666666666,
              "#ed7953"
             ],
             [
              0.7777777777777778,
              "#fb9f3a"
             ],
             [
              0.8888888888888888,
              "#fdca26"
             ],
             [
              1,
              "#f0f921"
             ]
            ],
            "type": "histogram2d"
           }
          ],
          "histogram2dcontour": [
           {
            "colorbar": {
             "outlinewidth": 0,
             "ticks": ""
            },
            "colorscale": [
             [
              0,
              "#0d0887"
             ],
             [
              0.1111111111111111,
              "#46039f"
             ],
             [
              0.2222222222222222,
              "#7201a8"
             ],
             [
              0.3333333333333333,
              "#9c179e"
             ],
             [
              0.4444444444444444,
              "#bd3786"
             ],
             [
              0.5555555555555556,
              "#d8576b"
             ],
             [
              0.6666666666666666,
              "#ed7953"
             ],
             [
              0.7777777777777778,
              "#fb9f3a"
             ],
             [
              0.8888888888888888,
              "#fdca26"
             ],
             [
              1,
              "#f0f921"
             ]
            ],
            "type": "histogram2dcontour"
           }
          ],
          "mesh3d": [
           {
            "colorbar": {
             "outlinewidth": 0,
             "ticks": ""
            },
            "type": "mesh3d"
           }
          ],
          "parcoords": [
           {
            "line": {
             "colorbar": {
              "outlinewidth": 0,
              "ticks": ""
             }
            },
            "type": "parcoords"
           }
          ],
          "pie": [
           {
            "automargin": true,
            "type": "pie"
           }
          ],
          "scatter": [
           {
            "fillpattern": {
             "fillmode": "overlay",
             "size": 10,
             "solidity": 0.2
            },
            "type": "scatter"
           }
          ],
          "scatter3d": [
           {
            "line": {
             "colorbar": {
              "outlinewidth": 0,
              "ticks": ""
             }
            },
            "marker": {
             "colorbar": {
              "outlinewidth": 0,
              "ticks": ""
             }
            },
            "type": "scatter3d"
           }
          ],
          "scattercarpet": [
           {
            "marker": {
             "colorbar": {
              "outlinewidth": 0,
              "ticks": ""
             }
            },
            "type": "scattercarpet"
           }
          ],
          "scattergeo": [
           {
            "marker": {
             "colorbar": {
              "outlinewidth": 0,
              "ticks": ""
             }
            },
            "type": "scattergeo"
           }
          ],
          "scattergl": [
           {
            "marker": {
             "colorbar": {
              "outlinewidth": 0,
              "ticks": ""
             }
            },
            "type": "scattergl"
           }
          ],
          "scattermapbox": [
           {
            "marker": {
             "colorbar": {
              "outlinewidth": 0,
              "ticks": ""
             }
            },
            "type": "scattermapbox"
           }
          ],
          "scatterpolar": [
           {
            "marker": {
             "colorbar": {
              "outlinewidth": 0,
              "ticks": ""
             }
            },
            "type": "scatterpolar"
           }
          ],
          "scatterpolargl": [
           {
            "marker": {
             "colorbar": {
              "outlinewidth": 0,
              "ticks": ""
             }
            },
            "type": "scatterpolargl"
           }
          ],
          "scatterternary": [
           {
            "marker": {
             "colorbar": {
              "outlinewidth": 0,
              "ticks": ""
             }
            },
            "type": "scatterternary"
           }
          ],
          "surface": [
           {
            "colorbar": {
             "outlinewidth": 0,
             "ticks": ""
            },
            "colorscale": [
             [
              0,
              "#0d0887"
             ],
             [
              0.1111111111111111,
              "#46039f"
             ],
             [
              0.2222222222222222,
              "#7201a8"
             ],
             [
              0.3333333333333333,
              "#9c179e"
             ],
             [
              0.4444444444444444,
              "#bd3786"
             ],
             [
              0.5555555555555556,
              "#d8576b"
             ],
             [
              0.6666666666666666,
              "#ed7953"
             ],
             [
              0.7777777777777778,
              "#fb9f3a"
             ],
             [
              0.8888888888888888,
              "#fdca26"
             ],
             [
              1,
              "#f0f921"
             ]
            ],
            "type": "surface"
           }
          ],
          "table": [
           {
            "cells": {
             "fill": {
              "color": "#EBF0F8"
             },
             "line": {
              "color": "white"
             }
            },
            "header": {
             "fill": {
              "color": "#C8D4E3"
             },
             "line": {
              "color": "white"
             }
            },
            "type": "table"
           }
          ]
         },
         "layout": {
          "annotationdefaults": {
           "arrowcolor": "#2a3f5f",
           "arrowhead": 0,
           "arrowwidth": 1
          },
          "autotypenumbers": "strict",
          "coloraxis": {
           "colorbar": {
            "outlinewidth": 0,
            "ticks": ""
           }
          },
          "colorscale": {
           "diverging": [
            [
             0,
             "#8e0152"
            ],
            [
             0.1,
             "#c51b7d"
            ],
            [
             0.2,
             "#de77ae"
            ],
            [
             0.3,
             "#f1b6da"
            ],
            [
             0.4,
             "#fde0ef"
            ],
            [
             0.5,
             "#f7f7f7"
            ],
            [
             0.6,
             "#e6f5d0"
            ],
            [
             0.7,
             "#b8e186"
            ],
            [
             0.8,
             "#7fbc41"
            ],
            [
             0.9,
             "#4d9221"
            ],
            [
             1,
             "#276419"
            ]
           ],
           "sequential": [
            [
             0,
             "#0d0887"
            ],
            [
             0.1111111111111111,
             "#46039f"
            ],
            [
             0.2222222222222222,
             "#7201a8"
            ],
            [
             0.3333333333333333,
             "#9c179e"
            ],
            [
             0.4444444444444444,
             "#bd3786"
            ],
            [
             0.5555555555555556,
             "#d8576b"
            ],
            [
             0.6666666666666666,
             "#ed7953"
            ],
            [
             0.7777777777777778,
             "#fb9f3a"
            ],
            [
             0.8888888888888888,
             "#fdca26"
            ],
            [
             1,
             "#f0f921"
            ]
           ],
           "sequentialminus": [
            [
             0,
             "#0d0887"
            ],
            [
             0.1111111111111111,
             "#46039f"
            ],
            [
             0.2222222222222222,
             "#7201a8"
            ],
            [
             0.3333333333333333,
             "#9c179e"
            ],
            [
             0.4444444444444444,
             "#bd3786"
            ],
            [
             0.5555555555555556,
             "#d8576b"
            ],
            [
             0.6666666666666666,
             "#ed7953"
            ],
            [
             0.7777777777777778,
             "#fb9f3a"
            ],
            [
             0.8888888888888888,
             "#fdca26"
            ],
            [
             1,
             "#f0f921"
            ]
           ]
          },
          "colorway": [
           "#636efa",
           "#EF553B",
           "#00cc96",
           "#ab63fa",
           "#FFA15A",
           "#19d3f3",
           "#FF6692",
           "#B6E880",
           "#FF97FF",
           "#FECB52"
          ],
          "font": {
           "color": "#2a3f5f"
          },
          "geo": {
           "bgcolor": "white",
           "lakecolor": "white",
           "landcolor": "#E5ECF6",
           "showlakes": true,
           "showland": true,
           "subunitcolor": "white"
          },
          "hoverlabel": {
           "align": "left"
          },
          "hovermode": "closest",
          "mapbox": {
           "style": "light"
          },
          "paper_bgcolor": "white",
          "plot_bgcolor": "#E5ECF6",
          "polar": {
           "angularaxis": {
            "gridcolor": "white",
            "linecolor": "white",
            "ticks": ""
           },
           "bgcolor": "#E5ECF6",
           "radialaxis": {
            "gridcolor": "white",
            "linecolor": "white",
            "ticks": ""
           }
          },
          "scene": {
           "xaxis": {
            "backgroundcolor": "#E5ECF6",
            "gridcolor": "white",
            "gridwidth": 2,
            "linecolor": "white",
            "showbackground": true,
            "ticks": "",
            "zerolinecolor": "white"
           },
           "yaxis": {
            "backgroundcolor": "#E5ECF6",
            "gridcolor": "white",
            "gridwidth": 2,
            "linecolor": "white",
            "showbackground": true,
            "ticks": "",
            "zerolinecolor": "white"
           },
           "zaxis": {
            "backgroundcolor": "#E5ECF6",
            "gridcolor": "white",
            "gridwidth": 2,
            "linecolor": "white",
            "showbackground": true,
            "ticks": "",
            "zerolinecolor": "white"
           }
          },
          "shapedefaults": {
           "line": {
            "color": "#2a3f5f"
           }
          },
          "ternary": {
           "aaxis": {
            "gridcolor": "white",
            "linecolor": "white",
            "ticks": ""
           },
           "baxis": {
            "gridcolor": "white",
            "linecolor": "white",
            "ticks": ""
           },
           "bgcolor": "#E5ECF6",
           "caxis": {
            "gridcolor": "white",
            "linecolor": "white",
            "ticks": ""
           }
          },
          "title": {
           "x": 0.05
          },
          "xaxis": {
           "automargin": true,
           "gridcolor": "white",
           "linecolor": "white",
           "ticks": "",
           "title": {
            "standoff": 15
           },
           "zerolinecolor": "white",
           "zerolinewidth": 2
          },
          "yaxis": {
           "automargin": true,
           "gridcolor": "white",
           "linecolor": "white",
           "ticks": "",
           "title": {
            "standoff": 15
           },
           "zerolinecolor": "white",
           "zerolinewidth": 2
          }
         }
        },
        "width": 900
       }
      }
     },
     "metadata": {},
     "output_type": "display_data"
    }
   ],
   "source": [
    "EDA=df_SinOutliers\n",
    "\n",
    "fig = px.scatter_mapbox(\n",
    "    EDA,\n",
    "    lat = \"Latitude (generated)\",\n",
    "    lon = \"Longitude (generated)\",\n",
    "    #center = {\"lat\": 19.6345, \"lon\": -99.5528},\n",
    "    color = \"Avg. costo_m2_terreno\",\n",
    "    width = 900,\n",
    "    height = 600,\n",
    "    hover_data = [\"Colonia\", \"Avg. costo_m2_terreno\"]\n",
    ");\n",
    "\n",
    "fig.update_layout(mapbox_style=\"open-street-map\")\n",
    "fig.show()"
   ]
  },
  {
   "attachments": {},
   "cell_type": "markdown",
   "metadata": {},
   "source": [
    "## Análisis preliminar geojson"
   ]
  },
  {
   "cell_type": "code",
   "execution_count": 2,
   "metadata": {},
   "outputs": [
    {
     "data": {
      "text/html": [
       "<div>\n",
       "<style scoped>\n",
       "    .dataframe tbody tr th:only-of-type {\n",
       "        vertical-align: middle;\n",
       "    }\n",
       "\n",
       "    .dataframe tbody tr th {\n",
       "        vertical-align: top;\n",
       "    }\n",
       "\n",
       "    .dataframe thead th {\n",
       "        text-align: right;\n",
       "    }\n",
       "</style>\n",
       "<table border=\"1\" class=\"dataframe\">\n",
       "  <thead>\n",
       "    <tr style=\"text-align: right;\">\n",
       "      <th></th>\n",
       "      <th>sta_name</th>\n",
       "      <th>col_area_code</th>\n",
       "      <th>col_code</th>\n",
       "      <th>col_type</th>\n",
       "      <th>mun_name</th>\n",
       "      <th>year</th>\n",
       "      <th>col_name</th>\n",
       "      <th>mun_code</th>\n",
       "      <th>sta_code</th>\n",
       "      <th>geometry</th>\n",
       "    </tr>\n",
       "  </thead>\n",
       "  <tbody>\n",
       "    <tr>\n",
       "      <th>0</th>\n",
       "      <td>Ciudad de México</td>\n",
       "      <td>MEX</td>\n",
       "      <td>10-200</td>\n",
       "      <td>colonia</td>\n",
       "      <td>Álvaro Obregón</td>\n",
       "      <td>2019</td>\n",
       "      <td>Santa Lucia</td>\n",
       "      <td>09010</td>\n",
       "      <td>09</td>\n",
       "      <td>POLYGON ((-99.25760 19.35510, -99.25719 19.354...</td>\n",
       "    </tr>\n",
       "    <tr>\n",
       "      <th>1</th>\n",
       "      <td>Ciudad de México</td>\n",
       "      <td>MEX</td>\n",
       "      <td>15-012</td>\n",
       "      <td>colonia</td>\n",
       "      <td>Cuauhtémoc</td>\n",
       "      <td>2019</td>\n",
       "      <td>Ex Hipodromo De Peralvillo</td>\n",
       "      <td>09015</td>\n",
       "      <td>09</td>\n",
       "      <td>POLYGON ((-99.14022 19.46039, -99.14006 19.460...</td>\n",
       "    </tr>\n",
       "    <tr>\n",
       "      <th>2</th>\n",
       "      <td>Ciudad de México</td>\n",
       "      <td>MEX</td>\n",
       "      <td>12-204</td>\n",
       "      <td>colonia</td>\n",
       "      <td>Tlalpan</td>\n",
       "      <td>2019</td>\n",
       "      <td>Zapote-Luis Donaldo Colosio (U Habs)</td>\n",
       "      <td>09012</td>\n",
       "      <td>09</td>\n",
       "      <td>POLYGON ((-99.17772 19.29994, -99.17764 19.300...</td>\n",
       "    </tr>\n",
       "    <tr>\n",
       "      <th>3</th>\n",
       "      <td>Ciudad de México</td>\n",
       "      <td>MEX</td>\n",
       "      <td>12-201</td>\n",
       "      <td>colonia</td>\n",
       "      <td>Tlalpan</td>\n",
       "      <td>2019</td>\n",
       "      <td>Xaxalipac</td>\n",
       "      <td>09012</td>\n",
       "      <td>09</td>\n",
       "      <td>POLYGON ((-99.14485 19.18065, -99.14449 19.180...</td>\n",
       "    </tr>\n",
       "    <tr>\n",
       "      <th>4</th>\n",
       "      <td>Ciudad de México</td>\n",
       "      <td>MEX</td>\n",
       "      <td>10-238</td>\n",
       "      <td>colonia</td>\n",
       "      <td>Álvaro Obregón</td>\n",
       "      <td>2019</td>\n",
       "      <td>Villa Verdun</td>\n",
       "      <td>09010</td>\n",
       "      <td>09</td>\n",
       "      <td>POLYGON ((-99.25172 19.33917, -99.25226 19.339...</td>\n",
       "    </tr>\n",
       "  </tbody>\n",
       "</table>\n",
       "</div>"
      ],
      "text/plain": [
       "           sta_name col_area_code col_code col_type        mun_name  year  \\\n",
       "0  Ciudad de México           MEX   10-200  colonia  Álvaro Obregón  2019   \n",
       "1  Ciudad de México           MEX   15-012  colonia      Cuauhtémoc  2019   \n",
       "2  Ciudad de México           MEX   12-204  colonia         Tlalpan  2019   \n",
       "3  Ciudad de México           MEX   12-201  colonia         Tlalpan  2019   \n",
       "4  Ciudad de México           MEX   10-238  colonia  Álvaro Obregón  2019   \n",
       "\n",
       "                               col_name mun_code sta_code  \\\n",
       "0                           Santa Lucia    09010       09   \n",
       "1            Ex Hipodromo De Peralvillo    09015       09   \n",
       "2  Zapote-Luis Donaldo Colosio (U Habs)    09012       09   \n",
       "3                             Xaxalipac    09012       09   \n",
       "4                          Villa Verdun    09010       09   \n",
       "\n",
       "                                            geometry  \n",
       "0  POLYGON ((-99.25760 19.35510, -99.25719 19.354...  \n",
       "1  POLYGON ((-99.14022 19.46039, -99.14006 19.460...  \n",
       "2  POLYGON ((-99.17772 19.29994, -99.17764 19.300...  \n",
       "3  POLYGON ((-99.14485 19.18065, -99.14449 19.180...  \n",
       "4  POLYGON ((-99.25172 19.33917, -99.25226 19.339...  "
      ]
     },
     "execution_count": 2,
     "metadata": {},
     "output_type": "execute_result"
    }
   ],
   "source": [
    "geo=gpd.read_file('CDMX_colonias.geojson')\n",
    "geo.head()"
   ]
  },
  {
   "cell_type": "code",
   "execution_count": 9,
   "metadata": {},
   "outputs": [
    {
     "data": {
      "text/plain": [
       "False"
      ]
     },
     "execution_count": 9,
     "metadata": {},
     "output_type": "execute_result"
    }
   ],
   "source": [
    "from shapely.geometry import Point, Polygon\n",
    "p1=Point(19.413464, -99.135515)\n",
    "dentro=False\n",
    "for i in geo['geometry']:\n",
    "    if p1.within(i):\n",
    "        dentro=True\n",
    "    \n",
    "dentro"
   ]
  },
  {
   "cell_type": "code",
   "execution_count": 6,
   "metadata": {},
   "outputs": [
    {
     "data": {
      "text/plain": [
       "0       POLYGON ((-99.25760 19.35510, -99.25719 19.354...\n",
       "1       POLYGON ((-99.14022 19.46039, -99.14006 19.460...\n",
       "2       POLYGON ((-99.17772 19.29994, -99.17764 19.300...\n",
       "3       POLYGON ((-99.14485 19.18065, -99.14449 19.180...\n",
       "4       POLYGON ((-99.25172 19.33917, -99.25226 19.339...\n",
       "                              ...                        \n",
       "1810    POLYGON ((-99.15948 19.30381, -99.15940 19.303...\n",
       "1811    POLYGON ((-99.22484 19.26676, -99.22594 19.267...\n",
       "1812    POLYGON ((-99.15186 19.46803, -99.15187 19.468...\n",
       "1813    POLYGON ((-99.03084 19.36307, -99.03041 19.362...\n",
       "1814    POLYGON ((-99.07382 19.28951, -99.07377 19.289...\n",
       "Name: geometry, Length: 1815, dtype: geometry"
      ]
     },
     "execution_count": 6,
     "metadata": {},
     "output_type": "execute_result"
    }
   ],
   "source": [
    "geo['geometry']"
   ]
  },
  {
   "cell_type": "code",
   "execution_count": 201,
   "metadata": {},
   "outputs": [
    {
     "data": {
      "text/plain": [
       "<AxesSubplot: >"
      ]
     },
     "execution_count": 201,
     "metadata": {},
     "output_type": "execute_result"
    },
    {
     "data": {
      "image/png": "[encoded data removed]",
      "text/plain": [
       "<Figure size 640x480 with 1 Axes>"
      ]
     },
     "metadata": {},
     "output_type": "display_data"
    }
   ],
   "source": [
    "geo.plot()"
   ]
  },
  {
   "cell_type": "code",
   "execution_count": 210,
   "metadata": {},
   "outputs": [],
   "source": [
    "geo2=geo.copy()"
   ]
  },
  {
   "cell_type": "code",
   "execution_count": 211,
   "metadata": {},
   "outputs": [
    {
     "name": "stderr",
     "output_type": "stream",
     "text": [
      "c:\\Users\\Jhovany Lara\\AppData\\Local\\Programs\\Python\\Python38\\lib\\site-packages\\geopandas\\geodataframe.py:1442: UserWarning: Geometry column does not contain geometry.\n",
      "  warnings.warn(\"Geometry column does not contain geometry.\")\n"
     ]
    }
   ],
   "source": [
    "geo2['geometry']=geo2['geometry'].astype(str)\n",
    "full=geo2.geometry.str.split(',', expand=True)"
   ]
  },
  {
   "attachments": {},
   "cell_type": "markdown",
   "metadata": {},
   "source": [
    "Vemos si es posible llenar las alcaldías faltantes en df con los datos del geojson"
   ]
  },
  {
   "cell_type": "code",
   "execution_count": 180,
   "metadata": {},
   "outputs": [],
   "source": [
    "#Cambiamos todo a mayusculas para que coincida con el df\n",
    "geo['col_name']=geo['col_name'].str.upper()\n",
    "geo['mun_name']=geo['mun_name'].str.upper()"
   ]
  },
  {
   "cell_type": "code",
   "execution_count": 144,
   "metadata": {},
   "outputs": [],
   "source": [
    "#Creamos un diccionario\n",
    "mun=geo.mun_name.values.tolist()\n",
    "col=geo.col_name.values.tolist()\n",
    "dicc=dict(zip(col, mun))\n"
   ]
  },
  {
   "attachments": {},
   "cell_type": "markdown",
   "metadata": {},
   "source": [
    "Nos damos cuenta que no es posible obtener la Alcaldía con el nombre de la colonia en geojson"
   ]
  },
  {
   "cell_type": "code",
   "execution_count": null,
   "metadata": {},
   "outputs": [],
   "source": [
    "A=geo[geo.col_name.str.contains('BUENAVISTA')]\n",
    "A"
   ]
  },
  {
   "attachments": {},
   "cell_type": "markdown",
   "metadata": {},
   "source": [
    "## Usando urbanpy para obtener datos"
   ]
  },
  {
   "cell_type": "code",
   "execution_count": 4,
   "metadata": {},
   "outputs": [],
   "source": [
    "mx=up.download.nominatim_osm('Ciudad de Mexico, Mexico')"
   ]
  },
  {
   "cell_type": "code",
   "execution_count": 72,
   "metadata": {},
   "outputs": [
    {
     "data": {
      "text/plain": [
       "False"
      ]
     },
     "execution_count": 72,
     "metadata": {},
     "output_type": "execute_result"
    }
   ],
   "source": [
    "from shapely.geometry import Point, Polygon\n",
    "p1=Point(19.417522, -99.139572)\n",
    "Polygono=Polygon(mx['geometry'][0])\n",
    "p1.within(Polygono)"
   ]
  },
  {
   "cell_type": "code",
   "execution_count": 76,
   "metadata": {},
   "outputs": [
    {
     "data": {
      "text/plain": [
       "False"
      ]
     },
     "execution_count": 76,
     "metadata": {},
     "output_type": "execute_result"
    }
   ],
   "source": [
    "Polygono.contains(p1)"
   ]
  },
  {
   "cell_type": "code",
   "execution_count": 62,
   "metadata": {},
   "outputs": [
    {
     "data": {
      "image/png": "[encoded data removed]",
      "text/plain": [
       "<Figure size 1200x500 with 1 Axes>"
      ]
     },
     "metadata": {},
     "output_type": "display_data"
    }
   ],
   "source": [
    "fig, (ax1) = plt.subplots(1, figsize=(12,5))\n",
    "\n",
    "mx.plot(ax=ax1)\n",
    "\n",
    "plt.tight_layout()\n",
    "plt.show()"
   ]
  },
  {
   "cell_type": "code",
   "execution_count": 165,
   "metadata": {},
   "outputs": [
    {
     "data": {
      "text/plain": [
       "(1767, 2)"
      ]
     },
     "execution_count": 165,
     "metadata": {},
     "output_type": "execute_result"
    }
   ],
   "source": [
    "hex_mx=up.geom.gen_hexagons(8, mx)\n",
    "hex_mx.shape"
   ]
  },
  {
   "cell_type": "code",
   "execution_count": 166,
   "metadata": {},
   "outputs": [
    {
     "data": {
      "text/plain": [
       "Text(0.5, 1.0, 'CDMX, Celdas H3 de resolución 8')"
      ]
     },
     "execution_count": 166,
     "metadata": {},
     "output_type": "execute_result"
    },
    {
     "data": {
      "image/png": "[encoded data removed]",
      "text/plain": [
       "<Figure size 700x800 with 1 Axes>"
      ]
     },
     "metadata": {},
     "output_type": "display_data"
    }
   ],
   "source": [
    "hex_mx.plot()\n",
    "plt.title('CDMX, Celdas H3 de resolución 8')"
   ]
  },
  {
   "cell_type": "code",
   "execution_count": null,
   "metadata": {},
   "outputs": [],
   "source": [
    "pop_df = up.download.hdx_fb_population('argentina', 'full') #Está caida la pagina (HTTP Error 404: Not Found)"
   ]
  },
  {
   "attachments": {},
   "cell_type": "markdown",
   "metadata": {},
   "source": [
    "Obtenemos los datos de salud"
   ]
  },
  {
   "cell_type": "code",
   "execution_count": 121,
   "metadata": {},
   "outputs": [],
   "source": [
    "es=up.download.overpass_pois(bounds=mx.total_bounds, facilities='health')"
   ]
  },
  {
   "cell_type": "code",
   "execution_count": 68,
   "metadata": {},
   "outputs": [
    {
     "data": {
      "text/plain": [
       "pharmacy    610\n",
       "hospital    165\n",
       "dentist      98\n",
       "clinic       92\n",
       "doctors      86\n",
       "Name: poi_type, dtype: int64"
      ]
     },
     "execution_count": 68,
     "metadata": {},
     "output_type": "execute_result"
    }
   ],
   "source": [
    "es.poi_type.value_counts()  #Vemos los datos que toma en cuenta"
   ]
  },
  {
   "cell_type": "code",
   "execution_count": 30,
   "metadata": {},
   "outputs": [
    {
     "data": {
      "text/plain": [
       "Text(0.5, 1.0, 'CDMX Puntos de interes OSM, categoria salud')"
      ]
     },
     "execution_count": 30,
     "metadata": {},
     "output_type": "execute_result"
    },
    {
     "data": {
      "image/png": "[encoded data removed]",
      "text/plain": [
       "<Figure size 640x480 with 1 Axes>"
      ]
     },
     "metadata": {},
     "output_type": "display_data"
    }
   ],
   "source": [
    "es.plot('poi_type', markersize=5, alpha = 0.7, legend=True)\n",
    "plt.title('CDMX Puntos de interes OSM, categoria salud')"
   ]
  },
  {
   "attachments": {},
   "cell_type": "markdown",
   "metadata": {},
   "source": [
    "Extraemos solo los datos de hospitales"
   ]
  },
  {
   "cell_type": "code",
   "execution_count": 31,
   "metadata": {},
   "outputs": [],
   "source": [
    "hospitales=es[es['poi_type']=='hospital']"
   ]
  },
  {
   "cell_type": "code",
   "execution_count": 32,
   "metadata": {},
   "outputs": [
    {
     "data": {
      "text/plain": [
       "<AxesSubplot: >"
      ]
     },
     "execution_count": 32,
     "metadata": {},
     "output_type": "execute_result"
    },
    {
     "data": {
      "image/png": "[encoded data removed]",
      "text/plain": [
       "<Figure size 640x480 with 1 Axes>"
      ]
     },
     "metadata": {},
     "output_type": "display_data"
    }
   ],
   "source": [
    "hospitales.plot()"
   ]
  },
  {
   "attachments": {},
   "cell_type": "markdown",
   "metadata": {},
   "source": [
    "Tomamos los centroides de cada hexágono"
   ]
  },
  {
   "cell_type": "code",
   "execution_count": 33,
   "metadata": {},
   "outputs": [],
   "source": [
    "hex_mx['lat']=hex_mx.geometry.centroid.y\n",
    "hex_mx['lon']=hex_mx.geometry.centroid.x"
   ]
  },
  {
   "attachments": {},
   "cell_type": "markdown",
   "metadata": {},
   "source": [
    "Distancia vuelo de pájaro"
   ]
  },
  {
   "cell_type": "code",
   "execution_count": 34,
   "metadata": {},
   "outputs": [],
   "source": [
    "dist_up, ind_up=up.utils.nn_search(\n",
    "    tree_features=hospitales[['lat','lon']].values,#Puntos de interes\n",
    "    query_features=hex_mx[['lat','lon']].values,#Centroides de los hexagonos\n",
    "    metric='haversine' #Metrica de distancia\n",
    ")"
   ]
  },
  {
   "cell_type": "code",
   "execution_count": 39,
   "metadata": {},
   "outputs": [
    {
     "data": {
      "text/html": [
       "<div>\n",
       "<style scoped>\n",
       "    .dataframe tbody tr th:only-of-type {\n",
       "        vertical-align: middle;\n",
       "    }\n",
       "\n",
       "    .dataframe tbody tr th {\n",
       "        vertical-align: top;\n",
       "    }\n",
       "\n",
       "    .dataframe thead th {\n",
       "        text-align: right;\n",
       "    }\n",
       "</style>\n",
       "<table border=\"1\" class=\"dataframe\">\n",
       "  <thead>\n",
       "    <tr style=\"text-align: right;\">\n",
       "      <th></th>\n",
       "      <th>hex</th>\n",
       "      <th>geometry</th>\n",
       "      <th>lat</th>\n",
       "      <th>lon</th>\n",
       "      <th>hosp_cercano</th>\n",
       "      <th>distancia</th>\n",
       "      <th>distancia (km)</th>\n",
       "    </tr>\n",
       "  </thead>\n",
       "  <tbody>\n",
       "    <tr>\n",
       "      <th>0</th>\n",
       "      <td>8849958017fffff</td>\n",
       "      <td>POLYGON ((-99.04043 19.21087, -99.03591 19.213...</td>\n",
       "      <td>19.216012</td>\n",
       "      <td>-99.040782</td>\n",
       "      <td>48</td>\n",
       "      <td>3.550772</td>\n",
       "      <td>3.550772</td>\n",
       "    </tr>\n",
       "    <tr>\n",
       "      <th>1</th>\n",
       "      <td>8849959731fffff</td>\n",
       "      <td>POLYGON ((-99.14552 19.09433, -99.14101 19.097...</td>\n",
       "      <td>19.099476</td>\n",
       "      <td>-99.145882</td>\n",
       "      <td>45</td>\n",
       "      <td>11.093977</td>\n",
       "      <td>11.093977</td>\n",
       "    </tr>\n",
       "    <tr>\n",
       "      <th>2</th>\n",
       "      <td>8849958095fffff</td>\n",
       "      <td>POLYGON ((-99.07179 19.25502, -99.06727 19.257...</td>\n",
       "      <td>19.260168</td>\n",
       "      <td>-99.072142</td>\n",
       "      <td>47</td>\n",
       "      <td>3.491039</td>\n",
       "      <td>3.491039</td>\n",
       "    </tr>\n",
       "    <tr>\n",
       "      <th>3</th>\n",
       "      <td>8849958419fffff</td>\n",
       "      <td>POLYGON ((-99.18772 19.29277, -99.18321 19.295...</td>\n",
       "      <td>19.297913</td>\n",
       "      <td>-99.188084</td>\n",
       "      <td>6</td>\n",
       "      <td>0.962638</td>\n",
       "      <td>0.962638</td>\n",
       "    </tr>\n",
       "    <tr>\n",
       "      <th>4</th>\n",
       "      <td>884995bb15fffff</td>\n",
       "      <td>POLYGON ((-99.11592 19.41461, -99.11140 19.417...</td>\n",
       "      <td>19.419753</td>\n",
       "      <td>-99.116282</td>\n",
       "      <td>41</td>\n",
       "      <td>1.914156</td>\n",
       "      <td>1.914156</td>\n",
       "    </tr>\n",
       "  </tbody>\n",
       "</table>\n",
       "</div>"
      ],
      "text/plain": [
       "               hex                                           geometry  \\\n",
       "0  8849958017fffff  POLYGON ((-99.04043 19.21087, -99.03591 19.213...   \n",
       "1  8849959731fffff  POLYGON ((-99.14552 19.09433, -99.14101 19.097...   \n",
       "2  8849958095fffff  POLYGON ((-99.07179 19.25502, -99.06727 19.257...   \n",
       "3  8849958419fffff  POLYGON ((-99.18772 19.29277, -99.18321 19.295...   \n",
       "4  884995bb15fffff  POLYGON ((-99.11592 19.41461, -99.11140 19.417...   \n",
       "\n",
       "         lat        lon  hosp_cercano  distancia  distancia (km)  \n",
       "0  19.216012 -99.040782            48   3.550772        3.550772  \n",
       "1  19.099476 -99.145882            45  11.093977       11.093977  \n",
       "2  19.260168 -99.072142            47   3.491039        3.491039  \n",
       "3  19.297913 -99.188084             6   0.962638        0.962638  \n",
       "4  19.419753 -99.116282            41   1.914156        1.914156  "
      ]
     },
     "execution_count": 39,
     "metadata": {},
     "output_type": "execute_result"
    }
   ],
   "source": [
    "hex_mx['hosp_cercano']=ind_up\n",
    "hex_mx['distancia (km)']=dist_up\n",
    "hex_mx.head()"
   ]
  },
  {
   "attachments": {},
   "cell_type": "markdown",
   "metadata": {},
   "source": [
    "Ahora tomamos las coordenadas de la tabla df_SinOutliers"
   ]
  },
  {
   "cell_type": "code",
   "execution_count": 70,
   "metadata": {},
   "outputs": [],
   "source": [
    "cdmx=df_SinOutliers\n",
    "cdmx.rename(columns={'Latitude (generated)':'lat','Longitude (generated)':'lon'}, inplace=True) #renombramos las columnas de coordenadas\n",
    "dist_up, ind_up=up.utils.nn_search(\n",
    "    tree_features=hospitales[['lat','lon']].values,#Puntos de interes\n",
    "    query_features=cdmx[['lat','lon']].values,#Centroides de los hexagonos\n",
    "    metric='haversine' #Metrica de distancia\n",
    ")"
   ]
  },
  {
   "attachments": {},
   "cell_type": "markdown",
   "metadata": {},
   "source": [
    "Cargamos la distancia y cantidad al dataset"
   ]
  },
  {
   "cell_type": "code",
   "execution_count": 71,
   "metadata": {},
   "outputs": [
    {
     "data": {
      "text/html": [
       "<div>\n",
       "<style scoped>\n",
       "    .dataframe tbody tr th:only-of-type {\n",
       "        vertical-align: middle;\n",
       "    }\n",
       "\n",
       "    .dataframe tbody tr th {\n",
       "        vertical-align: top;\n",
       "    }\n",
       "\n",
       "    .dataframe thead th {\n",
       "        text-align: right;\n",
       "    }\n",
       "</style>\n",
       "<table border=\"1\" class=\"dataframe\">\n",
       "  <thead>\n",
       "    <tr style=\"text-align: right;\">\n",
       "      <th></th>\n",
       "      <th>Colonia</th>\n",
       "      <th>Alcaldía</th>\n",
       "      <th>lat</th>\n",
       "      <th>lon</th>\n",
       "      <th>Avg. costo_m2_terreno</th>\n",
       "      <th>hosp_cercano</th>\n",
       "      <th>distancia (km)</th>\n",
       "    </tr>\n",
       "  </thead>\n",
       "  <tbody>\n",
       "    <tr>\n",
       "      <th>1</th>\n",
       "      <td>ZENON DELGADO</td>\n",
       "      <td>ALVARO OBREGON</td>\n",
       "      <td>19.389579</td>\n",
       "      <td>-99.216276</td>\n",
       "      <td>32988.000000</td>\n",
       "      <td>111</td>\n",
       "      <td>1.268749</td>\n",
       "    </tr>\n",
       "    <tr>\n",
       "      <th>2</th>\n",
       "      <td>ZACAHUITZCO</td>\n",
       "      <td>IZTAPALAPA</td>\n",
       "      <td>19.374028</td>\n",
       "      <td>-99.135868</td>\n",
       "      <td>40967.555556</td>\n",
       "      <td>139</td>\n",
       "      <td>0.446150</td>\n",
       "    </tr>\n",
       "    <tr>\n",
       "      <th>3</th>\n",
       "      <td>XOTEPINGO</td>\n",
       "      <td>COYOACAN</td>\n",
       "      <td>19.327916</td>\n",
       "      <td>-99.140440</td>\n",
       "      <td>39393.166667</td>\n",
       "      <td>161</td>\n",
       "      <td>1.393580</td>\n",
       "    </tr>\n",
       "    <tr>\n",
       "      <th>4</th>\n",
       "      <td>XOCO</td>\n",
       "      <td>BENITO JUAREZ</td>\n",
       "      <td>19.361136</td>\n",
       "      <td>-99.167825</td>\n",
       "      <td>47916.315789</td>\n",
       "      <td>29</td>\n",
       "      <td>0.575230</td>\n",
       "    </tr>\n",
       "    <tr>\n",
       "      <th>5</th>\n",
       "      <td>VISTA ALEGRE</td>\n",
       "      <td>CUAUHTEMOC</td>\n",
       "      <td>19.410148</td>\n",
       "      <td>-99.133091</td>\n",
       "      <td>22941.000000</td>\n",
       "      <td>113</td>\n",
       "      <td>1.340451</td>\n",
       "    </tr>\n",
       "  </tbody>\n",
       "</table>\n",
       "</div>"
      ],
      "text/plain": [
       "         Colonia        Alcaldía        lat        lon  Avg. costo_m2_terreno  \\\n",
       "1  ZENON DELGADO  ALVARO OBREGON  19.389579 -99.216276           32988.000000   \n",
       "2    ZACAHUITZCO      IZTAPALAPA  19.374028 -99.135868           40967.555556   \n",
       "3      XOTEPINGO        COYOACAN  19.327916 -99.140440           39393.166667   \n",
       "4           XOCO   BENITO JUAREZ  19.361136 -99.167825           47916.315789   \n",
       "5   VISTA ALEGRE      CUAUHTEMOC  19.410148 -99.133091           22941.000000   \n",
       "\n",
       "   hosp_cercano  distancia (km)  \n",
       "1           111        1.268749  \n",
       "2           139        0.446150  \n",
       "3           161        1.393580  \n",
       "4            29        0.575230  \n",
       "5           113        1.340451  "
      ]
     },
     "execution_count": 71,
     "metadata": {},
     "output_type": "execute_result"
    }
   ],
   "source": [
    "cdmx['hosp_cercano']=ind_up\n",
    "cdmx['distancia (km)']=dist_up\n",
    "cdmx.head()"
   ]
  },
  {
   "attachments": {},
   "cell_type": "markdown",
   "metadata": {},
   "source": [
    "Cargamos datos de salud a tabla cdmx"
   ]
  },
  {
   "cell_type": "code",
   "execution_count": 167,
   "metadata": {},
   "outputs": [],
   "source": [
    "cdmx=df_SinOutliers\n",
    "cdmx.rename(columns={'Latitude (generated)':'lat','Longitude (generated)':'lon'}, inplace=True) #renombramos las columnas de coordenadas"
   ]
  },
  {
   "cell_type": "code",
   "execution_count": 169,
   "metadata": {},
   "outputs": [],
   "source": [
    "es=up.download.overpass_pois(bounds=mx.total_bounds, facilities='health')"
   ]
  },
  {
   "cell_type": "code",
   "execution_count": 170,
   "metadata": {},
   "outputs": [],
   "source": [
    "health=['hospital', 'pharmacy','clinic', 'dentist', 'doctors']\n",
    "for i in health:\n",
    "    z=es[es['poi_type']==i]\n",
    "    dist_up, ind_up=up.utils.nn_search(\n",
    "        tree_features=z[['lat','lon']].values,#Puntos de interes\n",
    "        query_features=cdmx[['lat','lon']].values,#coordenadas de cada colonia\n",
    "        metric='haversine' #Metrica de distancia\n",
    "    )\n",
    "    cdmx[f'{i}_near']=ind_up\n",
    "    cdmx[f'{i}_dist(km)']=dist_up\n"
   ]
  },
  {
   "attachments": {},
   "cell_type": "markdown",
   "metadata": {},
   "source": [
    "Obtenemos datos de alimentos"
   ]
  },
  {
   "cell_type": "code",
   "execution_count": 171,
   "metadata": {},
   "outputs": [],
   "source": [
    "es=up.download.overpass_pois(bounds=mx.total_bounds, facilities='food')"
   ]
  },
  {
   "cell_type": "code",
   "execution_count": null,
   "metadata": {},
   "outputs": [],
   "source": [
    "es.poi_type.value_counts()  #Vemos los datos que toma en cuenta"
   ]
  },
  {
   "attachments": {},
   "cell_type": "markdown",
   "metadata": {},
   "source": [
    "Cargamos datos de alimentos"
   ]
  },
  {
   "cell_type": "code",
   "execution_count": 173,
   "metadata": {},
   "outputs": [],
   "source": [
    "food=['convenience', 'supermarket','butcher', 'marketplace', 'greengrocer','mall']\n",
    "\n",
    "for i in food:\n",
    "    z=es[es['poi_type']==i]\n",
    "    dist_up, ind_up=up.utils.nn_search(\n",
    "        tree_features=z[['lat','lon']].values,#Puntos de interes\n",
    "        query_features=cdmx[['lat','lon']].values,#coordenadas de cada colonia\n",
    "        metric='haversine' #Metrica de distancia\n",
    "    )\n",
    "    cdmx[f'{i}_near']=ind_up\n",
    "    cdmx[f'{i}_dist(km)']=dist_up"
   ]
  },
  {
   "attachments": {},
   "cell_type": "markdown",
   "metadata": {},
   "source": [
    "Obtenemos datos de educación"
   ]
  },
  {
   "cell_type": "code",
   "execution_count": 174,
   "metadata": {},
   "outputs": [
    {
     "data": {
      "text/plain": [
       "school             518\n",
       "university          80\n",
       "kindergarten        73\n",
       "college             20\n",
       "music_school         6\n",
       "prep_school          4\n",
       "language_school      1\n",
       "dance_school         1\n",
       "driving_school       1\n",
       "Name: poi_type, dtype: int64"
      ]
     },
     "execution_count": 174,
     "metadata": {},
     "output_type": "execute_result"
    }
   ],
   "source": [
    "es=up.download.overpass_pois(bounds=mx.total_bounds, facilities='education')\n",
    "es.poi_type.value_counts()  #Vemos los datos que toma en cuenta"
   ]
  },
  {
   "attachments": {},
   "cell_type": "markdown",
   "metadata": {},
   "source": [
    "Cargamos datos de educación"
   ]
  },
  {
   "cell_type": "code",
   "execution_count": 175,
   "metadata": {},
   "outputs": [],
   "source": [
    "education=['school', 'university','kindergarten']\n",
    "\n",
    "for i in education:\n",
    "    z=es[es['poi_type']==i]\n",
    "    dist_up, ind_up=up.utils.nn_search(\n",
    "        tree_features=z[['lat','lon']].values,#Puntos de interes\n",
    "        query_features=cdmx[['lat','lon']].values,#coordenadas de cada colonia\n",
    "        metric='haversine' #Metrica de distancia\n",
    "    )\n",
    "    cdmx[f'{i}_near']=ind_up\n",
    "    cdmx[f'{i}_dist(km)']=dist_up"
   ]
  },
  {
   "attachments": {},
   "cell_type": "markdown",
   "metadata": {},
   "source": [
    "Obtenemos datos financieros"
   ]
  },
  {
   "cell_type": "code",
   "execution_count": 176,
   "metadata": {},
   "outputs": [
    {
     "data": {
      "text/plain": [
       "bank                724\n",
       "atm                 114\n",
       "post_office          75\n",
       "bureau_de_change     10\n",
       "money_transfer        1\n",
       "Name: poi_type, dtype: int64"
      ]
     },
     "execution_count": 176,
     "metadata": {},
     "output_type": "execute_result"
    }
   ],
   "source": [
    "es=up.download.overpass_pois(bounds=mx.total_bounds, facilities='finance')\n",
    "es.poi_type.value_counts()  #Vemos los datos que toma en cuenta"
   ]
  },
  {
   "cell_type": "code",
   "execution_count": 177,
   "metadata": {},
   "outputs": [],
   "source": [
    "finance=['bank', 'atm']\n",
    "\n",
    "for i in finance:\n",
    "    z=es[es['poi_type']==i]\n",
    "    dist_up, ind_up=up.utils.nn_search(\n",
    "        tree_features=z[['lat','lon']].values,#Puntos de interes\n",
    "        query_features=cdmx[['lat','lon']].values,#coordenadas de cada colonia\n",
    "        metric='haversine' #Metrica de distancia\n",
    "    )\n",
    "    cdmx[f'{i}_near']=ind_up\n",
    "    cdmx[f'{i}_dist(km)']=dist_up"
   ]
  },
  {
   "cell_type": "code",
   "execution_count": 178,
   "metadata": {},
   "outputs": [
    {
     "data": {
      "text/html": [
       "<div>\n",
       "<style scoped>\n",
       "    .dataframe tbody tr th:only-of-type {\n",
       "        vertical-align: middle;\n",
       "    }\n",
       "\n",
       "    .dataframe tbody tr th {\n",
       "        vertical-align: top;\n",
       "    }\n",
       "\n",
       "    .dataframe thead th {\n",
       "        text-align: right;\n",
       "    }\n",
       "</style>\n",
       "<table border=\"1\" class=\"dataframe\">\n",
       "  <thead>\n",
       "    <tr style=\"text-align: right;\">\n",
       "      <th></th>\n",
       "      <th>Colonia</th>\n",
       "      <th>Alcaldía</th>\n",
       "      <th>lat</th>\n",
       "      <th>lon</th>\n",
       "      <th>Avg. costo_m2_terreno</th>\n",
       "      <th>hospital_near</th>\n",
       "      <th>hospital_dist(km)</th>\n",
       "      <th>pharmacy_near</th>\n",
       "      <th>pharmacy_dist(km)</th>\n",
       "      <th>clinic_near</th>\n",
       "      <th>...</th>\n",
       "      <th>school_near</th>\n",
       "      <th>school_dist(km)</th>\n",
       "      <th>university_near</th>\n",
       "      <th>university_dist(km)</th>\n",
       "      <th>kindergarten_near</th>\n",
       "      <th>kindergarten_dist(km)</th>\n",
       "      <th>bank_near</th>\n",
       "      <th>bank_dist(km)</th>\n",
       "      <th>atm_near</th>\n",
       "      <th>atm_dist(km)</th>\n",
       "    </tr>\n",
       "  </thead>\n",
       "  <tbody>\n",
       "    <tr>\n",
       "      <th>847</th>\n",
       "      <td>AGRICOLA ORIENTAL I</td>\n",
       "      <td>IZTACALCO</td>\n",
       "      <td>19.402220</td>\n",
       "      <td>-99.077949</td>\n",
       "      <td>0.0</td>\n",
       "      <td>120</td>\n",
       "      <td>2.077254</td>\n",
       "      <td>326</td>\n",
       "      <td>0.761217</td>\n",
       "      <td>35</td>\n",
       "      <td>...</td>\n",
       "      <td>249</td>\n",
       "      <td>1.270820</td>\n",
       "      <td>16</td>\n",
       "      <td>1.565890</td>\n",
       "      <td>4</td>\n",
       "      <td>1.532572</td>\n",
       "      <td>630</td>\n",
       "      <td>0.687251</td>\n",
       "      <td>91</td>\n",
       "      <td>2.167467</td>\n",
       "    </tr>\n",
       "    <tr>\n",
       "      <th>854</th>\n",
       "      <td>ACTIPAN</td>\n",
       "      <td>BENITO JUAREZ</td>\n",
       "      <td>19.369901</td>\n",
       "      <td>-99.178427</td>\n",
       "      <td>0.0</td>\n",
       "      <td>13</td>\n",
       "      <td>0.348693</td>\n",
       "      <td>435</td>\n",
       "      <td>0.402571</td>\n",
       "      <td>61</td>\n",
       "      <td>...</td>\n",
       "      <td>1</td>\n",
       "      <td>0.643761</td>\n",
       "      <td>1</td>\n",
       "      <td>1.044131</td>\n",
       "      <td>71</td>\n",
       "      <td>2.381655</td>\n",
       "      <td>493</td>\n",
       "      <td>0.272007</td>\n",
       "      <td>83</td>\n",
       "      <td>1.249524</td>\n",
       "    </tr>\n",
       "    <tr>\n",
       "      <th>859</th>\n",
       "      <td>20 DE NOVIEMBRE (AMPL)</td>\n",
       "      <td>VENUSTIANO CARRANZA</td>\n",
       "      <td>19.443236</td>\n",
       "      <td>-99.114841</td>\n",
       "      <td>0.0</td>\n",
       "      <td>23</td>\n",
       "      <td>1.000014</td>\n",
       "      <td>554</td>\n",
       "      <td>0.288363</td>\n",
       "      <td>28</td>\n",
       "      <td>...</td>\n",
       "      <td>465</td>\n",
       "      <td>0.128329</td>\n",
       "      <td>6</td>\n",
       "      <td>4.637980</td>\n",
       "      <td>34</td>\n",
       "      <td>1.782714</td>\n",
       "      <td>622</td>\n",
       "      <td>0.489317</td>\n",
       "      <td>9</td>\n",
       "      <td>2.433791</td>\n",
       "    </tr>\n",
       "    <tr>\n",
       "      <th>864</th>\n",
       "      <td>10 DE ABRIL</td>\n",
       "      <td>MIGUEL HIDALGO</td>\n",
       "      <td>19.448867</td>\n",
       "      <td>-99.209112</td>\n",
       "      <td>0.0</td>\n",
       "      <td>44</td>\n",
       "      <td>0.642178</td>\n",
       "      <td>274</td>\n",
       "      <td>0.905279</td>\n",
       "      <td>2</td>\n",
       "      <td>...</td>\n",
       "      <td>200</td>\n",
       "      <td>0.543641</td>\n",
       "      <td>5</td>\n",
       "      <td>5.276639</td>\n",
       "      <td>55</td>\n",
       "      <td>2.638372</td>\n",
       "      <td>678</td>\n",
       "      <td>0.062848</td>\n",
       "      <td>14</td>\n",
       "      <td>0.917545</td>\n",
       "    </tr>\n",
       "    <tr>\n",
       "      <th>867</th>\n",
       "      <td>5 DE MAYO</td>\n",
       "      <td>MIGUEL HIDALGO</td>\n",
       "      <td>19.448798</td>\n",
       "      <td>-99.199958</td>\n",
       "      <td>0.0</td>\n",
       "      <td>44</td>\n",
       "      <td>0.407873</td>\n",
       "      <td>347</td>\n",
       "      <td>0.988985</td>\n",
       "      <td>2</td>\n",
       "      <td>...</td>\n",
       "      <td>93</td>\n",
       "      <td>0.890721</td>\n",
       "      <td>6</td>\n",
       "      <td>4.550125</td>\n",
       "      <td>55</td>\n",
       "      <td>2.349347</td>\n",
       "      <td>21</td>\n",
       "      <td>0.548493</td>\n",
       "      <td>82</td>\n",
       "      <td>0.966389</td>\n",
       "    </tr>\n",
       "  </tbody>\n",
       "</table>\n",
       "<p>5 rows × 37 columns</p>\n",
       "</div>"
      ],
      "text/plain": [
       "                    Colonia             Alcaldía        lat        lon  \\\n",
       "847     AGRICOLA ORIENTAL I            IZTACALCO  19.402220 -99.077949   \n",
       "854                 ACTIPAN        BENITO JUAREZ  19.369901 -99.178427   \n",
       "859  20 DE NOVIEMBRE (AMPL)  VENUSTIANO CARRANZA  19.443236 -99.114841   \n",
       "864             10 DE ABRIL       MIGUEL HIDALGO  19.448867 -99.209112   \n",
       "867               5 DE MAYO       MIGUEL HIDALGO  19.448798 -99.199958   \n",
       "\n",
       "     Avg. costo_m2_terreno  hospital_near  hospital_dist(km)  pharmacy_near  \\\n",
       "847                    0.0            120           2.077254            326   \n",
       "854                    0.0             13           0.348693            435   \n",
       "859                    0.0             23           1.000014            554   \n",
       "864                    0.0             44           0.642178            274   \n",
       "867                    0.0             44           0.407873            347   \n",
       "\n",
       "     pharmacy_dist(km)  clinic_near  ...  school_near  school_dist(km)  \\\n",
       "847           0.761217           35  ...          249         1.270820   \n",
       "854           0.402571           61  ...            1         0.643761   \n",
       "859           0.288363           28  ...          465         0.128329   \n",
       "864           0.905279            2  ...          200         0.543641   \n",
       "867           0.988985            2  ...           93         0.890721   \n",
       "\n",
       "     university_near  university_dist(km)  kindergarten_near  \\\n",
       "847               16             1.565890                  4   \n",
       "854                1             1.044131                 71   \n",
       "859                6             4.637980                 34   \n",
       "864                5             5.276639                 55   \n",
       "867                6             4.550125                 55   \n",
       "\n",
       "     kindergarten_dist(km)  bank_near  bank_dist(km)  atm_near  atm_dist(km)  \n",
       "847               1.532572        630       0.687251        91      2.167467  \n",
       "854               2.381655        493       0.272007        83      1.249524  \n",
       "859               1.782714        622       0.489317         9      2.433791  \n",
       "864               2.638372        678       0.062848        14      0.917545  \n",
       "867               2.349347         21       0.548493        82      0.966389  \n",
       "\n",
       "[5 rows x 37 columns]"
      ]
     },
     "execution_count": 178,
     "metadata": {},
     "output_type": "execute_result"
    }
   ],
   "source": [
    "cdmx.tail()"
   ]
  },
  {
   "cell_type": "code",
   "execution_count": 181,
   "metadata": {},
   "outputs": [],
   "source": [
    "cdmx.to_csv('CDMX.csv', index=False)"
   ]
  },
  {
   "cell_type": "code",
   "execution_count": null,
   "metadata": {},
   "outputs": [],
   "source": [
    "up.routing.start_osrm_server('argentina', 'south-america', 'foot') #No levanta el contenedor"
   ]
  },
  {
   "cell_type": "code",
   "execution_count": 26,
   "metadata": {},
   "outputs": [],
   "source": [
    "def within_CDMX(lat,lon):\n",
    "    coord=(lat, lon)\n",
    "    geolocator=Nominatim(user_agent='test/1')\n",
    "    location=geolocator.reverse(coord) #Aquí ya tenemos la dirección completa\n",
    "    strloc=str(location) #cambiamos el tipo de dato a string\n",
    "    dentro=False\n",
    "    if 'Ciudad de México' in strloc:\n",
    "        dentro=True\n",
    "    if 'Ciudad de Mexico' in strloc:\n",
    "        dentro=True\n",
    "    return dentro"
   ]
  },
  {
   "cell_type": "code",
   "execution_count": 29,
   "metadata": {},
   "outputs": [
    {
     "data": {
      "text/plain": [
       "False"
      ]
     },
     "execution_count": 29,
     "metadata": {},
     "output_type": "execute_result"
    }
   ],
   "source": [
    "within_CDMX(19.20, -99.8)"
   ]
  }
 ],
 "metadata": {
  "kernelspec": {
   "display_name": "Python 3",
   "language": "python",
   "name": "python3"
  },
  "language_info": {
   "codemirror_mode": {
    "name": "ipython",
    "version": 3
   },
   "file_extension": ".py",
   "mimetype": "text/x-python",
   "name": "python",
   "nbconvert_exporter": "python",
   "pygments_lexer": "ipython3",
   "version": "3.8.10 (tags/v3.8.10:3d8993a, May  3 2021, 11:48:03) [MSC v.1928 64 bit (AMD64)]"
  },
  "orig_nbformat": 4,
  "vscode": {
   "interpreter": {
    "hash": "641453cebdb0bd76bc4c5f375a0160b16deeef6fb4daf91f74eb39f417ff7435"
   }
  }
 },
 "nbformat": 4,
 "nbformat_minor": 2
}
